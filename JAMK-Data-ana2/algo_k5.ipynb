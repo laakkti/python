{
 "cells": [
  {
   "cell_type": "markdown",
   "id": "b529edec",
   "metadata": {},
   "source": [
    "Tee rekursiota hyödyntäen python funktio toista(a), joka ottaa argumentikseen kokonaisluvun a ja tulostaa eri riveille ylemmällä rivillä olevan luvun vähennettyä ykkösellä lukuun nolla saakka (kts. esim. alla).\n",
    "\n",
    "Esimerkiksi:\n",
    "\n",
    "Testi:\n",
    "\n",
    "toista(3)\n",
    "\n",
    "Tulos:\n",
    "\n",
    "3\n",
    "2\n",
    "1\n",
    "0\n"
   ]
  },
  {
   "cell_type": "code",
   "execution_count": 2,
   "id": "209920d1",
   "metadata": {},
   "outputs": [
    {
     "name": "stdout",
     "output_type": "stream",
     "text": [
      "3\n",
      "2\n",
      "1\n",
      "0\n"
     ]
    }
   ],
   "source": [
    "def toista(a):\n",
    "    \n",
    "    # Kirjoita vastauksesi tähän alle:\n",
    "    # Otathan huomioon, että \"a\" muuttujassa on annettuna kokonaisluku, jota algoritmi käsittelee.\n",
    "    \n",
    "    # ...\n",
    "    # Vastauksessasi tulee esiintyä vain yksi print komento.\n",
    "    # ...\n",
    "    print(a)\n",
    "    if a>0:\n",
    "        toista(a-1)\n",
    "    \n",
    "toista(3)    "
   ]
  },
  {
   "cell_type": "code",
   "execution_count": null,
   "id": "aebbe038",
   "metadata": {},
   "outputs": [],
   "source": []
  }
 ],
 "metadata": {
  "kernelspec": {
   "display_name": "Python 3 (ipykernel)",
   "language": "python",
   "name": "python3"
  },
  "language_info": {
   "codemirror_mode": {
    "name": "ipython",
    "version": 3
   },
   "file_extension": ".py",
   "mimetype": "text/x-python",
   "name": "python",
   "nbconvert_exporter": "python",
   "pygments_lexer": "ipython3",
   "version": "3.9.7"
  }
 },
 "nbformat": 4,
 "nbformat_minor": 5
}
