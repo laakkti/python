{
 "cells": [
  {
   "cell_type": "markdown",
   "metadata": {
    "pycharm": {
     "name": "#%% md\n"
    }
   },
   "source": [
    "## Datan analysointi ja Visualisointi - Tehtävät kerta 5\n",
    "\n",
    "**Opiskelijan nimi (opisk.nro.): TÄHÄN_OMA_NIMESI (OP.NRO.)**\n",
    "\n",
    "**Harjoituskerran 5** tehtävistä palautetaan omaan repositoryyn muodossa **harjoitus5_etunimi_sukunimi_opiskelijanumero.ipynb**.\n",
    "Kyseessä on siis opiskelijan **Private repository**, johon tarkastuksen ajaksi on lisätty opettaja **Developer**-oikeuksilla.\n",
    "Jokaiseen vastattuun tehtävään tulee ajaa niiden ratkaisut näkyville (Output-kentät näkyvät suoraan) palautettavaan Jupyter Notebook -tiedostoon. Tehtäväsi arvioidaan seuraavasti:\n",
    "\n",
    "* **1,0 p**. Vastaus on täysin oikein.\n",
    "* **0,5 p**. Vastaus on osittain oikein.\n",
    "* **0 p**. Vastaus on väärin.\n",
    "\n",
    "**Tehtävissä ei tule käyttää silmukkarakenteita.** Sen sijaan tämän harjoituksen tehtävät kirjoitetaan ilman funktiorakennetta (skripti-muodossa). Ratkaisusi on täysin oikein, jos saat saman kuvan kuin esimerkkivastauksessa.\n",
    "\n",
    "Tässä pitää valita oman kiinnostuksen mukaan palauttaako harjoituksen **2 a) vai 2 b)** - molempia harjoituksia ei siis voi palauttaa. **Maksimipistemäärä** harjoituksista on siis aiempaan tapaan **5** pistettä.\n"
   ]
  },
  {
   "cell_type": "markdown",
   "metadata": {
    "pycharm": {
     "name": "#%% md\n"
    }
   },
   "source": [
    "## 1. Säädatan esittäminen\n",
    "\n",
    "Esitetään säädataa, joka on ladattu [Ilmatieteen laitoksen WFS rajapintapalvelusta](https://www.ilmatieteenlaitos.fi/latauspalvelun-pikaohje). Ennen säädatan esittämistä se tulee käsitellä seuraavasti:\n",
    "* lataa data DataFrameen url:sta 'https://student.labranet.jamk.fi/~huoptu/datananal_s20/kerta5/harjoitukset/saatiedot.csv' ottaen huomioon sarakkeiden erotinmerkin ',' ja desimaalierottimen '.',\n",
    "* datan ensimmäisessä sarakkeessa (tai indeksissä) on esitetty aika muodossa **vuosi-kuukausi-päivä tunnit:minuutit:sekunnit**,\n",
    "* muodosta em. aika sarakkeen kaikkia kenttiä (päivämäärä ja kellonkaika) hyödyntämällä uuteen DataFrameen sarake `'aika, s'`, joka kertoo kuinka paljon aikaa on kulunut sekunteina ensimmäisestä mittaushavainnosta eteenpäin,\n",
    "* lisää uuteen DataFrameen sarake `'Air temperature, degC'`,\n",
    "* tulosta tekemästäsi em. DataFramesta viisi ensimmäistä riviä.\n",
    "\n",
    "Kun olet käsitellyt datan, tee xy - tasolle seuraavanlainen kuvaaja:\n",
    "* aika sarakkeesta `'aika, s'` on esitetty vaaka-akselilla ja ilman lämpötila sarakkeesta `'Air temperature, degC'` on esitetty pystyakselilla,\n",
    "* em. kuvaajassa datapisteitä on merkitty punaisella pisteellä,\n",
    "* punaista pistettä esittävälle datalle on merkitty selite (*legend*), jossa lukee `'ilman lämpötila'`,\n",
    "* vaaka-akelin otsikoksi on kirjoitettu `'aika, s'` ja pystyakselin otsikoksi 'ilman lämpötila $^{o}C$ ',\n",
    "* huomaa, että akselin otsikkoon voit merkitä fysikaalisen yksikön [TeX syntaksilla](https://en.wikipedia.org/wiki/TeX),\n",
    "* lisää kuvaajaan myös ruudukko, jossa on musta katkoviiva.\n",
    "\n",
    "**Esimerkkikuva:**\n",
    "<img src=\"https://student.labranet.jamk.fi/~huoptu/datananal_s20/kerta5/harjoitukset/tehtava1.png\" width=\"450\"/>\n"
   ]
  },
  {
   "cell_type": "code",
   "execution_count": 13,
   "metadata": {},
   "outputs": [
    {
     "data": {
      "text/html": [
       "<div>\n",
       "<style scoped>\n",
       "    .dataframe tbody tr th:only-of-type {\n",
       "        vertical-align: middle;\n",
       "    }\n",
       "\n",
       "    .dataframe tbody tr th {\n",
       "        vertical-align: top;\n",
       "    }\n",
       "\n",
       "    .dataframe thead th {\n",
       "        text-align: right;\n",
       "    }\n",
       "</style>\n",
       "<table border=\"1\" class=\"dataframe\">\n",
       "  <thead>\n",
       "    <tr style=\"text-align: right;\">\n",
       "      <th></th>\n",
       "      <th>aika, s</th>\n",
       "      <th>Air temperature, degC</th>\n",
       "    </tr>\n",
       "  </thead>\n",
       "  <tbody>\n",
       "    <tr>\n",
       "      <th>0</th>\n",
       "      <td>0</td>\n",
       "      <td>6.5</td>\n",
       "    </tr>\n",
       "    <tr>\n",
       "      <th>1</th>\n",
       "      <td>600</td>\n",
       "      <td>6.2</td>\n",
       "    </tr>\n",
       "    <tr>\n",
       "      <th>2</th>\n",
       "      <td>1200</td>\n",
       "      <td>5.7</td>\n",
       "    </tr>\n",
       "    <tr>\n",
       "      <th>3</th>\n",
       "      <td>1800</td>\n",
       "      <td>5.7</td>\n",
       "    </tr>\n",
       "    <tr>\n",
       "      <th>4</th>\n",
       "      <td>2400</td>\n",
       "      <td>5.7</td>\n",
       "    </tr>\n",
       "  </tbody>\n",
       "</table>\n",
       "</div>"
      ],
      "text/plain": [
       "   aika, s  Air temperature, degC\n",
       "0        0                    6.5\n",
       "1      600                    6.2\n",
       "2     1200                    5.7\n",
       "3     1800                    5.7\n",
       "4     2400                    5.7"
      ]
     },
     "metadata": {},
     "output_type": "display_data"
    },
    {
     "data": {
      "image/png": "[encoded data removed]",
      "text/plain": [
       "<Figure size 432x288 with 1 Axes>"
      ]
     },
     "metadata": {
      "needs_background": "light"
     },
     "output_type": "display_data"
    }
   ],
   "source": [
    "import pandas as pd\n",
    "import numpy as np\n",
    "from datetime import datetime\n",
    "import numpy as np\n",
    "import matplotlib.pyplot as plt\n",
    "\n",
    "url='https://student.labranet.jamk.fi/~huoptu/datananal_s20/kerta5/harjoitukset/saatiedot.csv'\n",
    "df = pd.read_csv(url,delimiter=\",\",decimal=\".\") \n",
    "\n",
    "#df['datetime']=pd.to_datetime(df['Unnamed: 0'],  format = '%Y-%d-%m %H:%M:%S')\n",
    "'''\n",
    "df['date'] = pd.to_datetime(df['Unnamed: 0'])\n",
    "\n",
    "epoch_time = datetime(1970, 1, 1)\n",
    "startTime=(df['date'][0:1]-epoch_time).dt.total_seconds().values\n",
    "\n",
    "df2 = pd.DataFrame()\n",
    "df2['aika, s']=(df['date']-epoch_time).dt.total_seconds()-startTime\n",
    "df2['aika, s']=df2['aika, s'].astype(int)\n",
    "df2['Air temperature, degC']=df['Air temperature, degC']\n",
    "display(df2[:5])\n",
    "'''\n",
    "\n",
    "\n",
    "epoch_time = datetime(1970, 1, 1)\n",
    "\n",
    "\n",
    "df2 = pd.DataFrame()\n",
    "df2['aika, s'] = pd.to_datetime(df['Unnamed: 0'])\n",
    "startTime=(df2['aika, s'][0:1]-epoch_time).dt.total_seconds().values\n",
    "df2['aika, s']=(df2['aika, s']-epoch_time).dt.total_seconds()-startTime\n",
    "df2['aika, s']=df2['aika, s'].astype(int)\n",
    "df2['Air temperature, degC']=df['Air temperature, degC']\n",
    "display(df2[:5])\n",
    "\n",
    "\n",
    "\n",
    "X = df2['aika, s']\n",
    "Y = df2['Air temperature, degC']\n",
    "plt.plot(X, Y, 'o', color = 'red',markersize=2)\n",
    "plt.grid(True)\n",
    "plt.rc('grid', linestyle=':', color='black', linewidth=1)\n",
    "plt.legend(['ilman lämpötila'])\n",
    "plt.xlabel('aika, s')\n",
    "plt.ylabel('Air temperature, \\xb0C')\n",
    "plt.show()"
   ]
  },
  {
   "cell_type": "markdown",
   "metadata": {
    "pycharm": {
     "name": "#%% md\n"
    }
   },
   "source": [
    "## 2. Vaihtoehto a) Säädatan esittäminen (2)\n",
    "\n",
    "Esitetään säädataa, joka on ladattu [Ilmatieteen laitoksen WFS rajapintapalvelusta](https://www.ilmatieteenlaitos.fi/latauspalvelun-pikaohje). Ennen säädatan esittämistä se tulee käsitellä seuraavasti:\n",
    "* lataa data DataFrameen url:sta 'https://student.labranet.jamk.fi/~huoptu/datananal_s20/kerta5/harjoitukset/saatiedot.csv' ottaen huomioon sarakkeiden erotinmerkin ',' ja desimaalierottimen '.',\n",
    "* datan ensimmäisessä sarakkeessa (tai indeksissä) on esitetty aika muodossa **vuosi-kuukausi-päivä tunnit:minuutit:sekunnit**,\n",
    "* muodosta em. aika-sarakkeen kaikkia kenttiä (päivämäärä ja kellonkaika) hyödyntämällä uuteen DataFrameen sarake `'aika, s'`, joka kertoo kuinka paljon aikaa on kulunut sekunteina ensimmäisestä mittaushavainnosta eteenpäin,\n",
    "* lisää uuteen DataFrameen sarakkeet `'Air temperature, degC'` ja `'Wind speed, m/s'`,\n",
    "* tulosta tekemästäsi em. DataFramesta viisi ensimmäistä riviä.\n",
    "\n",
    "Kun olet käsitellyt datan, tee xy - tasolle seuraavanlainen kuvaaja:\n",
    "* aika sarakkeesta `'aika, s'` on esitetty vaaka-akselilla ja ilman lämpötila sarakkeesta 'Air temperature, degC' on esitetty vasemman puoleisella pystyakselilla ja tuulen nopeus sarakkeesta `'Wind speed, m/s'` on esitetty oikean puoleisella pystyakselilla,\n",
    "* em. kuvaajassa datapisteitä (`'aika, s','Air temperature, degC'`) on merkitty punaisella pisteellä ja datapisteitä (`'aika, s','Wind speed, m/s'`) on merkitty sinisellä pisteellä,\n",
    "* datapisteiden (`'aika, s','Air temperature, degC'`) selite *'ilman lämpötila'* (*legend*) on esitetty kuvassa oikealla alhaalla,\n",
    "* datapisteiden (`'aika, s','Wind speed, m/s'`) selite *'tuulen nopeus'* (legend) on esitetty kuvassa vasemmalla ylhäällä,\n",
    "* x-akselilla on esitetty aika yksiköissä $\\cdot 10^{3}$ s ja x-akselin otsikko on 'aika, $\\cdot 10^{3}$ s',\n",
    "* vasemman puoleisen y-akselin otsikkona on 'ilman lämpötila, $^{o}C$',\n",
    "* oikean puoleisen y-akselin otsikkona on `'tuulen nopeus, m/s'`,\n",
    "* muuta x-akselin asteikkojaotus esimerkkikuvan kaltaiseksi,\n",
    "* lisää kuvaajaan ruudukko, jossa on musta katkoviiva,\n",
    "* aseta kuvan taustan väriksi (RGB) **'#D7F8FF'**,\n",
    "* aseta kuvan otsikoksi *'Säätila Jyväskylän lentoasemalla'*.\n",
    "\n",
    "**Esimerkkikuva:**\n",
    "<img src=\"https://student.labranet.jamk.fi/~huoptu/datananal_s20/kerta5/harjoitukset/tehtava2.png\" width=\"450\"/>"
   ]
  },
  {
   "cell_type": "code",
   "execution_count": null,
   "metadata": {},
   "outputs": [],
   "source": []
  },
  {
   "cell_type": "markdown",
   "metadata": {
    "pycharm": {
     "name": "#%% md\n"
    }
   },
   "source": [
    "## 2. Vaihtoehto b) Valioliigan sarjataulukko (1)\n",
    "\n",
    "Esitetään valioliigadataa:\n",
    "* lataa data DataFrameen url:sta 'url = \"https://student.labranet.jamk.fi/~pelju/data_av/samples/premium_league_2018_19/england-premier-league-teams-2018-to-2019-stats.csv\"\n",
    "\n",
    "Esitetään valittujen valioliigajoukkueiden koti- ja vierasvoitot samassa pylväsdiagrammissa. Ennen datan esittämistä se pitää käsitellä seuraavasti:\n",
    "* lataa data DataFrameen tehtävästä annetusta url-osoitteesta\n",
    "* lisää uuteen DataFrameen sarakkeet `common_name`, `wins_home` (kotipelien voitot) ja `wins_away` (vieraspelien voitot).\n",
    "* valitse DataFrameen seuraavat joukkueet (`common_name`-sarakkeesta): `` 'Arsenal', 'Tottenham Hotspur', 'Manchester City', 'Manchester United', 'Chelsea', 'Liverpool', 'Everton' ``\n",
    "\n",
    "* Lyhennä joukkueiden nimet kuvaajaa varten tekemällä uusi sarake *short_name*: `` 'Arsenal', 'Tottenham', 'ManCity', 'ManU', 'Chelsea', 'Liverpool', 'Everton' ``\n",
    "* Tee uusi DataFrame käyttäen *df.melt(id_vars, var_name, value_name ...)*-metodia, johon tulee uudet sarakkeet `Win Type` ja `Wins`\n",
    "```\n",
    "   short_name   Win Type  Wins\n",
    "0     Arsenal  wins_home    14\n",
    "::::::::::::::::::::::::::::::\n",
    "7     Arsenal  wins_away     7\n",
    "```\n",
    "\n",
    "* Kun olet käsitellyt datan, piirrä **(x,y)**-tasolle pylväsdiagrammi, jossa *x-akselilla* on joukkueen lyhennetty nimi ja *y-akselilla* on sekä kotivoittojen (`wins_home`) että vierasvoittojen lukumäärä (`wins_away`):\n",
    "* aseta y-akselin pylväille myös selite (engl. *Legend*)\n",
    "* käännä x-akselin otsikoita 30 astetta (vinkki: *xticks*)\n",
    "* aseta kuvalle otsikko (*Title*)\n",
    "\n",
    "\n",
    "**Esimerkkikuva:**\n",
    "<img src=\"https://student.labranet.jamk.fi/~pelju/datanav_k22/topic5/h5_t2.png\" width=\"450\"/>\n"
   ]
  },
  {
   "cell_type": "code",
   "execution_count": 61,
   "metadata": {
    "scrolled": true
   },
   "outputs": [
    {
     "data": {
      "image/png": "[encoded data removed]",
      "text/plain": [
       "<Figure size 576x360 with 1 Axes>"
      ]
     },
     "metadata": {
      "needs_background": "light"
     },
     "output_type": "display_data"
    }
   ],
   "source": [
    "import pandas as pd\n",
    "import numpy as np\n",
    "import matplotlib.pyplot as plt\n",
    "\n",
    "\n",
    "url = \"https://student.labranet.jamk.fi/~pelju/data_av/samples/premium_league_2018_19/england-premier-league-teams-2018-to-2019-stats.csv\"\n",
    "df = pd.read_csv(url,delimiter=\",\",decimal=\".\") \n",
    "\n",
    "df2 = pd.DataFrame(columns=['common_name','wins_home','wins_away'])\n",
    "\n",
    "df2=df.loc[df['common_name'].isin(['Arsenal','Tottenham Hotspur','Manchester City','Manchester United','Chelsea','Liverpool','Everton'])]\n",
    "shortNames=['Arsenal', 'Tottenham', 'ManCity','Everton','ManU','Liverpool','Chelsea']\n",
    "df2.insert(len(df2.columns), 'short_name', shortNames, True)\n",
    "\n",
    "winTypes=['wins_home','wins_away']\n",
    "\n",
    "df2=df2.melt(id_vars =['short_name'] ,var_name ='Win Type', value_name='Wins',value_vars=winTypes,ignore_index=True)\n",
    "\n",
    "winsHome=df2.loc[df2['Win Type']==winTypes[0]]['Wins'].tolist()\n",
    "winsAway=df2.loc[df2['Win Type']==winTypes[1]]['Wins'].tolist()\n",
    "\n",
    "labels = shortNames \n",
    "\n",
    "x = np.arange(len(labels))  # the label locations\n",
    "width = 0.4  # the width of the bars\n",
    "\n",
    "fig, ax = plt.subplots(figsize=(8,5))\n",
    "ax.bar(x - width/2, winsHome, width)\n",
    "ax.bar(x + width/2, winsAway, width)\n",
    "\n",
    "plt.barh(y, x)\n",
    "ax.set_ylabel('Wins')\n",
    "ax.set_title('Premium league, Season: 2018/2019')\n",
    "ax.set_xticks(x);\n",
    "ax.set_xticklabels(labels)\n",
    "plt.xticks(rotation = 30)\n",
    "ax.legend(title='Win Type',loc='upper left',labels=['wins_home','wins_away'])\n",
    "\n",
    "ax.margins(x=0.01)\n",
    "fig.tight_layout()\n",
    "\n",
    "plt.show()\n"
   ]
  },
  {
   "cell_type": "markdown",
   "metadata": {
    "pycharm": {
     "name": "#%% md\n"
    }
   },
   "source": [
    "## 3. Valioliigan sarjataulukko (2)\n",
    "\n",
    "Esitetään valioliigadataa:\n",
    "* lataa data DataFrameen url:sta 'url = \"https://student.labranet.jamk.fi/~pelju/data_av/samples/premium_league_2018_19/england-premier-league-teams-2018-to-2019-stats.csv\"\n",
    "\n",
    "Esitetään valittujen valioliigajoukkueiden koti- ja vierasvoitot samassa pylväsdiagrammissa. Ennen datan esittämistä se pitää käsitellä seuraavasti:\n",
    "* lataa data DataFrameen tehtävässä annetusta url:sta\n",
    "* lisää uuteen DataFrameen sarakkeet `team_name, common_name, season, wins, draws` ja `losses`.\n",
    "* valitse DataFrameen seuraavat joukkueet (`common_name`): ``'Arsenal', 'Tottenham Hotspur', 'Manchester City', 'Manchester United', 'Chelsea', 'Liverpool', 'Everton'``\n",
    "* Lyhennä joukkueiden nimet kuvaajaa varten tekemällä uusi sarake *short_name*: ``'Arsenal', 'Tottenham', 'ManCity', 'ManU', 'Chelsea', 'Liverpool', 'Everton'``\n",
    "* Lisää dataframeen kokonaan uusi sarake `points` (*pisteet*), jonka laskukaava on ``voitot * 3 + tasapelit`` (tappioista saa nolla pistettä): eli ``'wins' * 3 + 'draws'``\n",
    "\n",
    "Kun olet käsitellyt datan, tee (`x,y`)-tasolle käännetty pylväsdiagrammi, jossa *y*-akselilla on joukkueen lyhennetty nimi ja\n",
    "*x*-akselilla on joukkueen keräämät pisteet:\n",
    "* pyri kääntämään *y*-akselin otsikoita 30 astetta (vinkki: `plt.yticks()`)\n",
    "* aseta *y*-akselin pylväille myös otsikko, johon haet tiedot kaudesta (`season`) ja pelien määrästä (`matches_played`) alkuperäisestä DataFramesta\n",
    "* lisää kuvaan myös ruudukko (vinkki: *grid*)\n",
    "\n",
    "**Esimerkkikuva:**\n",
    "<img src=\"https://student.labranet.jamk.fi/~pelju/datanav_k22/topic5/h5_t3.png\" width=\"450\"/>\n"
   ]
  },
  {
   "cell_type": "code",
   "execution_count": 117,
   "metadata": {},
   "outputs": [
    {
     "data": {
      "image/png": "[encoded data removed]",
      "text/plain": [
       "<Figure size 504x360 with 1 Axes>"
      ]
     },
     "metadata": {
      "needs_background": "light"
     },
     "output_type": "display_data"
    }
   ],
   "source": [
    "import pandas as pd\n",
    "import numpy as np\n",
    "import matplotlib.pyplot as plt\n",
    "\n",
    "\n",
    "url = \"https://student.labranet.jamk.fi/~pelju/data_av/samples/premium_league_2018_19/england-premier-league-teams-2018-to-2019-stats.csv\"\n",
    "df = pd.read_csv(url,delimiter=\",\",decimal=\".\") \n",
    "df2 = pd.DataFrame(columns=['team_name', 'common_name', 'season', 'wins', 'draws','losses'])\n",
    "\n",
    "df2=df.loc[df['common_name'].isin(['Arsenal','Tottenham Hotspur','Manchester City','Manchester United','Chelsea','Liverpool','Everton'])]\n",
    "shortNames=['Arsenal', 'Tottenham', 'ManCity','Everton','ManU','Liverpool','Chelsea']\n",
    "df2.insert(len(df2.columns), 'short_name', shortNames, True)\n",
    "\n",
    "winTypes=['wins_home','wins_away']\n",
    "\n",
    "df2.insert(len(df2.columns), 'points', (df2['wins'] * 3 + df2['draws']), True)\n",
    "df3=df2[['short_name','points']]\n",
    "df3=df3.sort_values(by='points',ascending=True)\n",
    "x=df3['points'].tolist()\n",
    "y=df3['short_name'].tolist()\n",
    "\n",
    "plt.figure(figsize=(7,5)) \n",
    "plt.margins(y=0.01)\n",
    "\n",
    "plt.barh(y, x,height = 0.9,color=['#d684bd','#845b53','#9070af','#c03d3e','#3a923a','#e1812c','#31739f'])\n",
    "plt.yticks(rotation = 30)\n",
    "\n",
    "plt.grid(True)\n",
    "plt.rc('grid', linestyle=':', color='black', linewidth=1)\n",
    " \n",
    "plt.xlabel(\"Team name\")\n",
    "\n",
    "plt.title(\"England: \"+str(df2['season'][:1].values[0])+\", \"+str(df2['matches_played'][:1].values[0])+\" games\")\n",
    "plt.show()\n"
   ]
  },
  {
   "cell_type": "code",
   "execution_count": 67,
   "metadata": {},
   "outputs": [
    {
     "name": "stdout",
     "output_type": "stream",
     "text": [
      "NISSAN                   82\n",
      "FORD WERKE GMBH         377\n",
      "AUTOMOBILES CITROEN     934\n",
      "SKODA                  3552\n",
      "Name: Mh, dtype: int64\n",
      "[82, 377, 934, 3552]\n",
      "['NISSAN', 'FORD WERKE GMBH', 'AUTOMOBILES CITROEN', 'SKODA']\n",
      "Ft                   Diesel  Electric  Natural gas  Petrol\n",
      "Mh                                                        \n",
      "AUTOMOBILES CITROEN   299.0       NaN          NaN   635.0\n",
      "FORD WERKE GMBH       165.0       NaN          NaN   207.0\n",
      "NISSAN                 21.0       7.0          NaN    54.0\n",
      "SKODA                1332.0       NaN         33.0  2187.0\n",
      "[21.0, 7.0, nan, 54.0]\n",
      "[165.0, nan, nan, 207.0]\n",
      "[299.0, nan, nan, 635.0]\n",
      "[1332.0, nan, 33.0, 2187.0]\n"
     ]
    },
    {
     "data": {
      "text/plain": [
       "\"\\ncols = sarake.split('\\t')\\ndf.columns =cols\\ndf=df[['country','main activity sector name']]\\n\\ntobedropped=['20-99 All stationary installations','21-99 All industrial installations (excl. combustion)']\\nfor i in range(len(tobedropped)):\\n    df.drop(df[df['main activity sector name']==tobedropped[i]].index, inplace = True)        \\n\\ndf.rename(columns = {'main activity sector name':'sector'}, inplace = True)\\n\\ntulos=df['sector'].value_counts(sort=True,ascending=True)[:5]\\n\\nprint(tulos)\\n\""
      ]
     },
     "execution_count": 67,
     "metadata": {},
     "output_type": "execute_result"
    }
   ],
   "source": [
    "import pandas as pd\n",
    "import numpy as np\n",
    "\n",
    "url=\"https://student.labranet.jamk.fi/~huoptu/datananal_s20/kerta5/harjoitukset/autot.csv\"\n",
    "df = pd.read_csv(url, sep='\\t')\n",
    "df2=df.copy()\n",
    "#print(df2['Mh'].dtype)\n",
    "#df2=df2.loc[df2['Mh']>50]\n",
    "#print(df2)\n",
    "#print(df2.columns)\n",
    "\n",
    "df2.loc[df2['Ft'] == 'DIESEL', 'Ft'] = 'Diesel'\n",
    "df2.loc[df2['Ft'] == 'PETROL', 'Ft'] = 'Petrol'\n",
    "\n",
    "#df3=df2.loc[df['Ft'].str.contains('NG')==True]\n",
    "#df3.loc[df3['Ft'].str.contains('NG')==True,'Ft']='Natural gas'\n",
    "#xx=df2['Mh'].values_counts()\n",
    "#tulos=df2.loc[(df2['Mh'].value_counts().values)>50] \n",
    "\n",
    "tulos=df2['Mh'].value_counts(sort=True,ascending=True)\n",
    "#print(tulos)\n",
    "\n",
    "#tulos=df2['Mh'].value_counts(sort=True,ascending=True).values\n",
    "#print(tulos)\n",
    "# my_value_count.loc[my_value_count.index < 0.4]\n",
    "dfx=tulos.loc[tulos > 50]\n",
    "print(dfx)\n",
    "print(dfx.values.tolist())\n",
    "print(dfx.index.tolist())\n",
    "\n",
    "mhList=dfx.index.tolist()\n",
    "\n",
    "\n",
    "\n",
    "df2=df2.loc[df2['Mh'].isin(mhList)==True]\n",
    "#print(df2)\n",
    "\n",
    "df2.loc[df2['Ft'].str.contains('NG')==True,'Ft']='Natural gas'\n",
    "#print(df2['Ft'])\n",
    "#df3=df2.loc[df2['Ft'].str.contains('Natural gas')==True]\n",
    "#print(df3)\n",
    "\n",
    "tulos=pd.crosstab(df2['Mh'],df2['Ft'],values=df2['Ft'], aggfunc = 'count')\n",
    "\n",
    "#tulox=tulos[['Diesel',  'Electric',  'Natural gas', 'Petrol']]\n",
    "\n",
    "print(tulos)\n",
    "tulos=tulos.T\n",
    "\n",
    "for i in range(len(tulos)):\n",
    "    print(tulos[mhList[i]].tolist())\n",
    "#sarake = 'country\\tcountry_code\\tETS information\\tmain activity sector name\\tunit\\tvalue\\tyear'\n",
    "#df=df[sarake].str.split('\\t', expand=True)\n",
    "'''\n",
    "cols = sarake.split('\\t')\n",
    "df.columns =cols\n",
    "df=df[['country','main activity sector name']]\n",
    "\n",
    "tobedropped=['20-99 All stationary installations','21-99 All industrial installations (excl. combustion)']\n",
    "for i in range(len(tobedropped)):\n",
    "    df.drop(df[df['main activity sector name']==tobedropped[i]].index, inplace = True)        \n",
    "\n",
    "df.rename(columns = {'main activity sector name':'sector'}, inplace = True)\n",
    "\n",
    "tulos=df['sector'].value_counts(sort=True,ascending=True)[:5]\n",
    "\n",
    "print(tulos)\n",
    "'''    \n"
   ]
  },
  {
   "cell_type": "markdown",
   "metadata": {
    "pycharm": {
     "name": "#%% md\n"
    }
   },
   "source": [
    "## 4. Autodatan esittäminen\n",
    "\n",
    "#### Datan esikäsittely\n",
    "\n",
    "Lataa data DataFrameen URL-osoitteesta: https://student.labranet.jamk.fi/~huoptu/datananal_s20/kerta5/harjoitukset/autot.csv, kun olet huomioinut sarakkeiden erotinmerkit `'\\t'`.\n",
    "Tallenna uuteen DataFrameen vain ne rivit, joissa autonvalmistajalla (sarake `Mh`) on enemmän kuin 50 autoa. Muuta uudessa DataFramessa sarakkeen `Ft` merkkijonojen '*DIESEL*' tilalle '*Diesel*' ja '*PETROL*' tilalle '*Petrol*'. Jos sarakkeessa `Ft` on merkkijono '*NG*'*, korvaa se merkkijonolla '*Natural gas*'.\n",
    "\n",
    "#### Datan visualisointi\n",
    "\n",
    "Tee esimerkkikuvan kaltainen kuvaaja, jossa hyödynnät tuottamasi DataFramen sarakkeita autojen polttoainetyypin `Ft` ja auton valmistajan `Mh` osalta.\n",
    "\n",
    "**Esimerkkikuva:**\n",
    "<img src=\"https://student.labranet.jamk.fi/~huoptu/datananal_s20/kerta5/harjoitukset/tehtava3.png\" width=\"500\"/>"
   ]
  },
  {
   "cell_type": "markdown",
   "metadata": {
    "pycharm": {
     "name": "#%% md\n"
    }
   },
   "source": [
    "## 5. Autodatan esittäminen (2)\n",
    "\n",
    "#### Datan esikäsittely\n",
    "\n",
    "Lataa data DataFrameen [url:sta](https://student.labranet.jamk.fi/~huoptu/datananal_s20/kerta5/harjoitukset/autot.csv), kun olet huomioinut sarakkeiden erotinmerkit '\\t'. Tallenna uuteen DataFrameen vain ne rivit, joissa autonvalmistajalla (sarake **Mh**) on enemmän kuin 50 autoa ja sarakkeessa **Enedc (g/km)** on nollaa suurempia arvoja.\n",
    "\n",
    "#### Datan visualisointi\n",
    "\n",
    "Tee esimerkkikuvan kaltainen histogrammi, josta käy ilmi $CO_2$ päästöjen (sarake **Enedc (g/km)**) jakautuminen 100 eri lukualuevälin mukaan sekä kumulatiivinen histogrammi $CO_2$ päästöistä (sarake **Enedc (g/km)**). Otathan huomioon logaritmisen asteikon todennäköisyystiheysjakaumille.\n",
    "\n",
    "**Esimerkkikuva:**\n",
    "<img src=\"https://student.labranet.jamk.fi/~huoptu/datananal_s20/kerta5/harjoitukset/tehtava4.png\" width=\"500\"/>\n"
   ]
  },
  {
   "cell_type": "code",
   "execution_count": null,
   "metadata": {},
   "outputs": [],
   "source": []
  }
 ],
 "metadata": {
  "kernelspec": {
   "display_name": "Python 3 (ipykernel)",
   "language": "python",
   "name": "python3"
  },
  "language_info": {
   "codemirror_mode": {
    "name": "ipython",
    "version": 3
   },
   "file_extension": ".py",
   "mimetype": "text/x-python",
   "name": "python",
   "nbconvert_exporter": "python",
   "pygments_lexer": "ipython3",
   "version": "3.9.7"
  }
 },
 "nbformat": 4,
 "nbformat_minor": 2
}
