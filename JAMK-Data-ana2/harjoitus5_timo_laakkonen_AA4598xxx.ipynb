{
 "cells": [
  {
   "cell_type": "markdown",
   "metadata": {
    "pycharm": {
     "name": "#%% md\n"
    }
   },
   "source": [
    "## Datan analysointi ja Visualisointi - Tehtävät kerta 5\n",
    "\n",
    "**Opiskelijan nimi (opisk.nro.): TÄHÄN_OMA_NIMESI (OP.NRO.)**\n",
    "\n",
    "**Harjoituskerran 5** tehtävistä palautetaan omaan repositoryyn muodossa **harjoitus5_etunimi_sukunimi_opiskelijanumero.ipynb**.\n",
    "Kyseessä on siis opiskelijan **Private repository**, johon tarkastuksen ajaksi on lisätty opettaja **Developer**-oikeuksilla.\n",
    "Jokaiseen vastattuun tehtävään tulee ajaa niiden ratkaisut näkyville (Output-kentät näkyvät suoraan) palautettavaan Jupyter Notebook -tiedostoon. Tehtäväsi arvioidaan seuraavasti:\n",
    "\n",
    "* **1,0 p**. Vastaus on täysin oikein.\n",
    "* **0,5 p**. Vastaus on osittain oikein.\n",
    "* **0 p**. Vastaus on väärin.\n",
    "\n",
    "**Tehtävissä ei tule käyttää silmukkarakenteita.** Sen sijaan tämän harjoituksen tehtävät kirjoitetaan ilman funktiorakennetta (skripti-muodossa). Ratkaisusi on täysin oikein, jos saat saman kuvan kuin esimerkkivastauksessa.\n",
    "\n",
    "Tässä pitää valita oman kiinnostuksen mukaan palauttaako harjoituksen **2 a) vai 2 b)** - molempia harjoituksia ei siis voi palauttaa. **Maksimipistemäärä** harjoituksista on siis aiempaan tapaan **5** pistettä.\n"
   ]
  },
  {
   "cell_type": "markdown",
   "metadata": {
    "pycharm": {
     "name": "#%% md\n"
    }
   },
   "source": [
    "## 1. Säädatan esittäminen\n",
    "\n",
    "Esitetään säädataa, joka on ladattu [Ilmatieteen laitoksen WFS rajapintapalvelusta](https://www.ilmatieteenlaitos.fi/latauspalvelun-pikaohje). Ennen säädatan esittämistä se tulee käsitellä seuraavasti:\n",
    "* lataa data DataFrameen url:sta 'https://student.labranet.jamk.fi/~huoptu/datananal_s20/kerta5/harjoitukset/saatiedot.csv' ottaen huomioon sarakkeiden erotinmerkin ',' ja desimaalierottimen '.',\n",
    "* datan ensimmäisessä sarakkeessa (tai indeksissä) on esitetty aika muodossa **vuosi-kuukausi-päivä tunnit:minuutit:sekunnit**,\n",
    "* muodosta em. aika sarakkeen kaikkia kenttiä (päivämäärä ja kellonkaika) hyödyntämällä uuteen DataFrameen sarake `'aika, s'`, joka kertoo kuinka paljon aikaa on kulunut sekunteina ensimmäisestä mittaushavainnosta eteenpäin,\n",
    "* lisää uuteen DataFrameen sarake `'Air temperature, degC'`,\n",
    "* tulosta tekemästäsi em. DataFramesta viisi ensimmäistä riviä.\n",
    "\n",
    "Kun olet käsitellyt datan, tee xy - tasolle seuraavanlainen kuvaaja:\n",
    "* aika sarakkeesta `'aika, s'` on esitetty vaaka-akselilla ja ilman lämpötila sarakkeesta `'Air temperature, degC'` on esitetty pystyakselilla,\n",
    "* em. kuvaajassa datapisteitä on merkitty punaisella pisteellä,\n",
    "* punaista pistettä esittävälle datalle on merkitty selite (*legend*), jossa lukee `'ilman lämpötila'`,\n",
    "* vaaka-akelin otsikoksi on kirjoitettu `'aika, s'` ja pystyakselin otsikoksi 'ilman lämpötila $^{o}C$ ',\n",
    "* huomaa, että akselin otsikkoon voit merkitä fysikaalisen yksikön [TeX syntaksilla](https://en.wikipedia.org/wiki/TeX),\n",
    "* lisää kuvaajaan myös ruudukko, jossa on musta katkoviiva.\n",
    "\n",
    "**Esimerkkikuva:**\n",
    "<img src=\"https://student.labranet.jamk.fi/~huoptu/datananal_s20/kerta5/harjoitukset/tehtava1.png\" width=\"450\"/>\n"
   ]
  },
  {
   "cell_type": "markdown",
   "metadata": {
    "pycharm": {
     "name": "#%% md\n"
    }
   },
   "source": [
    "## 2. Vaihtoehto a) Säädatan esittäminen (2)\n",
    "\n",
    "Esitetään säädataa, joka on ladattu [Ilmatieteen laitoksen WFS rajapintapalvelusta](https://www.ilmatieteenlaitos.fi/latauspalvelun-pikaohje). Ennen säädatan esittämistä se tulee käsitellä seuraavasti:\n",
    "* lataa data DataFrameen url:sta 'https://student.labranet.jamk.fi/~huoptu/datananal_s20/kerta5/harjoitukset/saatiedot.csv' ottaen huomioon sarakkeiden erotinmerkin ',' ja desimaalierottimen '.',\n",
    "* datan ensimmäisessä sarakkeessa (tai indeksissä) on esitetty aika muodossa **vuosi-kuukausi-päivä tunnit:minuutit:sekunnit**,\n",
    "* muodosta em. aika-sarakkeen kaikkia kenttiä (päivämäärä ja kellonkaika) hyödyntämällä uuteen DataFrameen sarake `'aika, s'`, joka kertoo kuinka paljon aikaa on kulunut sekunteina ensimmäisestä mittaushavainnosta eteenpäin,\n",
    "* lisää uuteen DataFrameen sarakkeet `'Air temperature, degC'` ja `'Wind speed, m/s'`,\n",
    "* tulosta tekemästäsi em. DataFramesta viisi ensimmäistä riviä.\n",
    "\n",
    "Kun olet käsitellyt datan, tee xy - tasolle seuraavanlainen kuvaaja:\n",
    "* aika sarakkeesta `'aika, s'` on esitetty vaaka-akselilla ja ilman lämpötila sarakkeesta 'Air temperature, degC' on esitetty vasemman puoleisella pystyakselilla ja tuulen nopeus sarakkeesta `'Wind speed, m/s'` on esitetty oikean puoleisella pystyakselilla,\n",
    "* em. kuvaajassa datapisteitä (`'aika, s','Air temperature, degC'`) on merkitty punaisella pisteellä ja datapisteitä (`'aika, s','Wind speed, m/s'`) on merkitty sinisellä pisteellä,\n",
    "* datapisteiden (`'aika, s','Air temperature, degC'`) selite *'ilman lämpötila'* (*legend*) on esitetty kuvassa oikealla alhaalla,\n",
    "* datapisteiden (`'aika, s','Wind speed, m/s'`) selite *'tuulen nopeus'* (legend) on esitetty kuvassa vasemmalla ylhäällä,\n",
    "* x-akselilla on esitetty aika yksiköissä $\\cdot 10^{3}$ s ja x-akselin otsikko on 'aika, $\\cdot 10^{3}$ s',\n",
    "* vasemman puoleisen y-akselin otsikkona on 'ilman lämpötila, $^{o}C$',\n",
    "* oikean puoleisen y-akselin otsikkona on `'tuulen nopeus, m/s'`,\n",
    "* muuta x-akselin asteikkojaotus esimerkkikuvan kaltaiseksi,\n",
    "* lisää kuvaajaan ruudukko, jossa on musta katkoviiva,\n",
    "* aseta kuvan taustan väriksi (RGB) **'#D7F8FF'**,\n",
    "* aseta kuvan otsikoksi *'Säätila Jyväskylän lentoasemalla'*.\n",
    "\n",
    "**Esimerkkikuva:**\n",
    "<img src=\"https://student.labranet.jamk.fi/~huoptu/datananal_s20/kerta5/harjoitukset/tehtava2.png\" width=\"450\"/>"
   ]
  },
  {
   "cell_type": "markdown",
   "source": [
    "## 2. Vaihtoehto b) Valioliigan sarjataulukko (1)\n",
    "\n",
    "Esitetään valioliigadataa:\n",
    "* lataa data DataFrameen url:sta 'url = \"https://student.labranet.jamk.fi/~pelju/data_av/samples/premium_league_2018_19/england-premier-league-teams-2018-to-2019-stats.csv\"\n",
    "\n",
    "Esitetään valittujen valioliigajoukkueiden koti- ja vierasvoitot samassa pylväsdiagrammissa. Ennen datan esittämistä se pitää käsitellä seuraavasti:\n",
    "* lataa data DataFrameen tehtävästä annetusta url-osoitteesta\n",
    "* lisää uuteen DataFrameen sarakkeet `common_name`, `wins_home` (kotipelien voitot) ja `wins_away` (vieraspelien voitot).\n",
    "* valitse DataFrameen seuraavat joukkueet (`common_name`-sarakkeesta): `` 'Arsenal', 'Tottenham Hotspur', 'Manchester City', 'Manchester United', 'Chelsea', 'Liverpool', 'Everton' ``\n",
    "\n",
    "* Lyhennä joukkueiden nimet kuvaajaa varten tekemällä uusi sarake *short_name*: `` 'Arsenal', 'Tottenham', 'ManCity', 'ManU', 'Chelsea', 'Liverpool', 'Everton' ``\n",
    "* Tee uusi DataFrame käyttäen *df.melt(id_vars, var_name, value_name ...)*-metodia, johon tulee uudet sarakkeet `Win Type` ja `Wins`\n",
    "```\n",
    "   short_name   Win Type  Wins\n",
    "0     Arsenal  wins_home    14\n",
    "::::::::::::::::::::::::::::::\n",
    "7     Arsenal  wins_away     7\n",
    "```\n",
    "\n",
    "* Kun olet käsitellyt datan, piirrä **(x,y)**-tasolle pylväsdiagrammi, jossa *x-akselilla* on joukkueen lyhennetty nimi ja *y-akselilla* on sekä kotivoittojen (`wins_home`) että vierasvoittojen lukumäärä (`wins_away`):\n",
    "* aseta y-akselin pylväille myös selite (engl. *Legend*)\n",
    "* käännä x-akselin otsikoita 30 astetta (vinkki: *xticks*)\n",
    "* aseta kuvalle otsikko (*Title*)\n",
    "\n",
    "\n",
    "**Esimerkkikuva:**\n",
    "<img src=\"https://student.labranet.jamk.fi/~pelju/datanav_k22/topic5/h5_t2.png\" width=\"450\"/>\n"
   ],
   "metadata": {
    "collapsed": false,
    "pycharm": {
     "name": "#%% md\n"
    }
   }
  },
  {
   "cell_type": "markdown",
   "source": [
    "## 3. Valioliigan sarjataulukko (2)\n",
    "\n",
    "Esitetään valioliigadataa:\n",
    "* lataa data DataFrameen url:sta 'url = \"https://student.labranet.jamk.fi/~pelju/data_av/samples/premium_league_2018_19/england-premier-league-teams-2018-to-2019-stats.csv\"\n",
    "\n",
    "Esitetään valittujen valioliigajoukkueiden koti- ja vierasvoitot samassa pylväsdiagrammissa. Ennen datan esittämistä se pitää käsitellä seuraavasti:\n",
    "* lataa data DataFrameen tehtävässä annetusta url:sta\n",
    "* lisää uuteen DataFrameen sarakkeet `team_name, common_name, season, wins, draws` ja `losses`.\n",
    "* valitse DataFrameen seuraavat joukkueet (`common_name`): ``'Arsenal', 'Tottenham Hotspur', 'Manchester City', 'Manchester United', 'Chelsea', 'Liverpool', 'Everton'``\n",
    "* Lyhennä joukkueiden nimet kuvaajaa varten tekemällä uusi sarake *short_name*: ``'Arsenal', 'Tottenham', 'ManCity', 'ManU', 'Chelsea', 'Liverpool', 'Everton'``\n",
    "* Lisää dataframeen kokonaan uusi sarake `points` (*pisteet*), jonka laskukaava on ``voitot * 3 + tasapelit`` (tappioista saa nolla pistettä): eli ``'wins' * 3 + 'draws'``\n",
    "\n",
    "Kun olet käsitellyt datan, tee (`x,y`)-tasolle käännetty pylväsdiagrammi, jossa *y*-akselilla on joukkueen lyhennetty nimi ja\n",
    "*x*-akselilla on joukkueen keräämät pisteet:\n",
    "* pyri kääntämään *y*-akselin otsikoita 30 astetta (vinkki: `plt.yticks()`)\n",
    "* aseta *y*-akselin pylväille myös otsikko, johon haet tiedot kaudesta (`season`) ja pelien määrästä (`matches_played`) alkuperäisestä DataFramesta\n",
    "* lisää kuvaan myös ruudukko (vinkki: *grid*)\n",
    "\n",
    "**Esimerkkikuva:**\n",
    "<img src=\"https://student.labranet.jamk.fi/~pelju/datanav_k22/topic5/h5_t3.png\" width=\"450\"/>\n"
   ],
   "metadata": {
    "collapsed": false,
    "pycharm": {
     "name": "#%% md\n"
    }
   }
  },
  {
   "cell_type": "markdown",
   "metadata": {
    "pycharm": {
     "name": "#%% md\n"
    }
   },
   "source": [
    "## 4. Autodatan esittäminen\n",
    "\n",
    "#### Datan esikäsittely\n",
    "\n",
    "Lataa data DataFrameen URL-osoitteesta: https://student.labranet.jamk.fi/~huoptu/datananal_s20/kerta5/harjoitukset/autot.csv, kun olet huomioinut sarakkeiden erotinmerkit `'\\t'`.\n",
    "Tallenna uuteen DataFrameen vain ne rivit, joissa autonvalmistajalla (sarake `Mh`) on enemmän kuin 50 autoa. Muuta uudessa DataFramessa sarakkeen `Ft` merkkijonojen '*DIESEL*' tilalle '*Diesel*' ja '*PETROL*' tilalle '*Petrol*'. Jos sarakkeessa `Ft` on merkkijono '*NG*'*, korvaa se merkkijonolla '*Natural gas*'.\n",
    "\n",
    "#### Datan visualisointi\n",
    "\n",
    "Tee esimerkkikuvan kaltainen kuvaaja, jossa hyödynnät tuottamasi DataFramen sarakkeita autojen polttoainetyypin `Ft` ja auton valmistajan `Mh` osalta.\n",
    "\n",
    "**Esimerkkikuva:**\n",
    "<img src=\"https://student.labranet.jamk.fi/~huoptu/datananal_s20/kerta5/harjoitukset/tehtava3.png\" width=\"500\"/>"
   ]
  },
  {
   "cell_type": "markdown",
   "metadata": {
    "pycharm": {
     "name": "#%% md\n"
    }
   },
   "source": [
    "## 5. Autodatan esittäminen (2)\n",
    "\n",
    "#### Datan esikäsittely\n",
    "\n",
    "Lataa data DataFrameen [url:sta](https://student.labranet.jamk.fi/~huoptu/datananal_s20/kerta5/harjoitukset/autot.csv), kun olet huomioinut sarakkeiden erotinmerkit '\\t'. Tallenna uuteen DataFrameen vain ne rivit, joissa autonvalmistajalla (sarake **Mh**) on enemmän kuin 50 autoa ja sarakkeessa **Enedc (g/km)** on nollaa suurempia arvoja.\n",
    "\n",
    "#### Datan visualisointi\n",
    "\n",
    "Tee esimerkkikuvan kaltainen histogrammi, josta käy ilmi $CO_2$ päästöjen (sarake **Enedc (g/km)**) jakautuminen 100 eri lukualuevälin mukaan sekä kumulatiivinen histogrammi $CO_2$ päästöistä (sarake **Enedc (g/km)**). Otathan huomioon logaritmisen asteikon todennäköisyystiheysjakaumille.\n",
    "\n",
    "**Esimerkkikuva:**\n",
    "<img src=\"https://student.labranet.jamk.fi/~huoptu/datananal_s20/kerta5/harjoitukset/tehtava4.png\" width=\"500\"/>\n"
   ]
  }
 ],
 "metadata": {
  "kernelspec": {
   "display_name": "Python 3",
   "language": "python",
   "name": "python3"
  },
  "language_info": {
   "codemirror_mode": {
    "name": "ipython",
    "version": 3
   },
   "file_extension": ".py",
   "mimetype": "text/x-python",
   "name": "python",
   "nbconvert_exporter": "python",
   "pygments_lexer": "ipython3",
   "version": "3.8.5"
  }
 },
 "nbformat": 4,
 "nbformat_minor": 2
}