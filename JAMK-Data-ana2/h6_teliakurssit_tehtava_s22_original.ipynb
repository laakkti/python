{
 "cells": [
  {
   "cell_type": "markdown",
   "id": "156173e5",
   "metadata": {
    "pycharm": {
     "name": "#%% md\n"
    }
   },
   "source": [
    "## Datan analysointi S2022 - Tehtävät kerta 6\n",
    "**Muista** kirjoittaa alle omat tietosi.\n",
    "**Opiskelijan nimi:**"
   ]
  },
  {
   "cell_type": "code",
   "execution_count": 1,
   "id": "40acca69",
   "metadata": {
    "pycharm": {
     "name": "#%%\n"
    }
   },
   "outputs": [],
   "source": [
    "# Kirjoita tähän tietosi!\n",
    "student_name = 'Opiskelijan nimi'\n",
    "student_id = 'JAMK_opiskelijatunnus'"
   ]
  },
  {
   "cell_type": "markdown",
   "id": "de6aa4e3",
   "metadata": {
    "pycharm": {
     "name": "#%% md\n"
    }
   },
   "source": [
    "# Aineisto ja esikäsittely\n",
    "## Aineisto\n",
    "Tehdään datalle tarvittava esikäsittely.\n",
    "Aineisto on Telian osakekurssit vuodelta 2018. ts. kyseessä on aikasarjadata."
   ]
  },
  {
   "cell_type": "code",
   "execution_count": 2,
   "id": "112dc94d",
   "metadata": {
    "pycharm": {
     "name": "#%%\n"
    }
   },
   "outputs": [],
   "source": [
    "# Kirjastojen lataaminen\n",
    "import numpy as np\n",
    "import pandas as pd\n",
    "import matplotlib.pyplot as plt"
   ]
  },
  {
   "cell_type": "markdown",
   "id": "e260b8e1",
   "metadata": {
    "pycharm": {
     "name": "#%% md\n"
    }
   },
   "source": [
    "## Datan esikäsittely.\n",
    "Luetaan aluksi data sellaisenaan, mikä ei tässä tehtävässä ole oikea ratkaisu, mutta saadaan kuitenkin jotakin\n",
    "tietoa näytettyä DataFramessa."
   ]
  },
  {
   "cell_type": "code",
   "execution_count": 3,
   "id": "a5b2a35b",
   "metadata": {
    "pycharm": {
     "name": "#%%\n"
    }
   },
   "outputs": [
    {
     "data": {
      "text/html": [
       "<div>\n",
       "<style scoped>\n",
       "    .dataframe tbody tr th:only-of-type {\n",
       "        vertical-align: middle;\n",
       "    }\n",
       "\n",
       "    .dataframe tbody tr th {\n",
       "        vertical-align: top;\n",
       "    }\n",
       "\n",
       "    .dataframe thead th {\n",
       "        text-align: right;\n",
       "    }\n",
       "</style>\n",
       "<table border=\"1\" class=\"dataframe\">\n",
       "  <thead>\n",
       "    <tr style=\"text-align: right;\">\n",
       "      <th></th>\n",
       "      <th></th>\n",
       "      <th></th>\n",
       "      <th></th>\n",
       "      <th></th>\n",
       "      <th></th>\n",
       "      <th></th>\n",
       "      <th></th>\n",
       "      <th>Date;Bid;Ask;Opening price;High price;Low price;Closing price;Average price;Total volume;Turnover;Trades;</th>\n",
       "    </tr>\n",
       "  </thead>\n",
       "  <tbody>\n",
       "    <tr>\n",
       "      <th>2018-12-28;4</th>\n",
       "      <th>078;4</th>\n",
       "      <th>083;4</th>\n",
       "      <th>00;4</th>\n",
       "      <th>117;3</th>\n",
       "      <th>995;4</th>\n",
       "      <th>076;4</th>\n",
       "      <th>083;988115;4034300</th>\n",
       "      <td>94;1075;</td>\n",
       "    </tr>\n",
       "    <tr>\n",
       "      <th>2018-12-27;4</th>\n",
       "      <th>002;4</th>\n",
       "      <th>008;4</th>\n",
       "      <th>087;4</th>\n",
       "      <th>112;3</th>\n",
       "      <th>99;3</th>\n",
       "      <th>995;4</th>\n",
       "      <th>055;1195487;4848035</th>\n",
       "      <td>58;1377;</td>\n",
       "    </tr>\n",
       "    <tr>\n",
       "      <th>2018-12-21;4</th>\n",
       "      <th>123;4</th>\n",
       "      <th>125;4</th>\n",
       "      <th>12;4</th>\n",
       "      <th>143;4</th>\n",
       "      <th>043;4</th>\n",
       "      <th>122;4</th>\n",
       "      <th>10;919570;3770429</th>\n",
       "      <td>07;1096;</td>\n",
       "    </tr>\n",
       "    <tr>\n",
       "      <th>2018-12-20;4</th>\n",
       "      <th>169;4</th>\n",
       "      <th>174;4</th>\n",
       "      <th>151;4</th>\n",
       "      <th>186;4</th>\n",
       "      <th>119;4</th>\n",
       "      <th>163;4</th>\n",
       "      <th>162;941170;3917348</th>\n",
       "      <td>22;1036;</td>\n",
       "    </tr>\n",
       "    <tr>\n",
       "      <th>2018-12-19;4</th>\n",
       "      <th>183;4</th>\n",
       "      <th>186;4</th>\n",
       "      <th>17;4</th>\n",
       "      <th>213;4</th>\n",
       "      <th>17;4</th>\n",
       "      <th>18;4</th>\n",
       "      <th>191;651864;2732150</th>\n",
       "      <td>44;698;</td>\n",
       "    </tr>\n",
       "  </tbody>\n",
       "</table>\n",
       "</div>"
      ],
      "text/plain": [
       "                                                                     Date;Bid;Ask;Opening price;High price;Low price;Closing price;Average price;Total volume;Turnover;Trades;\n",
       "2018-12-28;4 078;4 083;4 00;4  117;3 995;4 076;4 083;988115;4034300                                            94;1075;                                                       \n",
       "2018-12-27;4 002;4 008;4 087;4 112;3 99;3  995;4 055;1195487;4848035                                           58;1377;                                                       \n",
       "2018-12-21;4 123;4 125;4 12;4  143;4 043;4 122;4 10;919570;3770429                                             07;1096;                                                       \n",
       "2018-12-20;4 169;4 174;4 151;4 186;4 119;4 163;4 162;941170;3917348                                            22;1036;                                                       \n",
       "2018-12-19;4 183;4 186;4 17;4  213;4 17;4  18;4  191;651864;2732150                                             44;698;                                                       "
      ]
     },
     "execution_count": 3,
     "metadata": {},
     "output_type": "execute_result"
    }
   ],
   "source": [
    "import pandas as pd\n",
    "\n",
    "# Asetetaan datalähde, josta data löytyy\n",
    "url_src = \"data/telia2018.csv\"\n",
    "\n",
    "df = pd.read_csv(url_src)\n",
    "df.head()"
   ]
  },
  {
   "cell_type": "markdown",
   "id": "0f7931f6",
   "metadata": {
    "pycharm": {
     "name": "#%% md\n"
    }
   },
   "source": [
    "### Luetaan tiedosto DataFrameen aikasarjana (T6.1 / 1p)\n",
    "Luetaan tiedosto, mutta asetetaan tuotettavaan DataFrameen vain muutama sarake, jonka arvoista olemme kiinnostuneita.\n",
    "Asetetaan `Date`-sarake DataFrame-taulukon indeksiksi, jolloin saamme päivämäärän indeksikentäksi.\n",
    "\n",
    "Toteuta seuraavat kohdat tässä tehtävässä:\n",
    "* parsi päivämääräkenttä `Date`-päivämäärämuotoon\n",
    "* Aseta `Date`-kenttä DataFramen indeksisarakkeeksi ja poista `Date`-kenttä DataFramen sarakkeista\n",
    "* Lopputuloksena DataFramessa on Date-indeksin lisäksi seuraavat sarakkeet: `Opening price, High price, Low price, Closing price, Total volume` eli poista muut sarakkeet jo tässä vaiheessa\n"
   ]
  },
  {
   "cell_type": "code",
   "execution_count": 4,
   "id": "1afbd39c",
   "metadata": {
    "lines_to_next_cell": 2,
    "pycharm": {
     "name": "#%%\n"
    }
   },
   "outputs": [],
   "source": [
    "# TODO: Toteuta tiedoston lukeminen annettujen alitehtävien mukaan."
   ]
  },
  {
   "cell_type": "code",
   "execution_count": 5,
   "id": "33085372",
   "metadata": {
    "pycharm": {
     "name": "#%%\n"
    }
   },
   "outputs": [
    {
     "data": {
      "text/plain": [
       "Date;Bid;Ask;Opening price;High price;Low price;Closing price;Average price;Total volume;Turnover;Trades;    object\n",
       "dtype: object"
      ]
     },
     "execution_count": 5,
     "metadata": {},
     "output_type": "execute_result"
    }
   ],
   "source": [
    "df.dtypes"
   ]
  },
  {
   "cell_type": "markdown",
   "id": "380e79c1",
   "metadata": {
    "pycharm": {
     "name": "#%% md\n"
    }
   },
   "source": [
    "### Järjestetään tiedot (T6.2 / 1p)\n",
    "\n",
    "Toteuta seuraavat kohdat tässä tehtävässä:\n",
    "* Tulosta ensimmäiset kymmenen päivää `Date` arvon perusteella\n",
    "* Tulosta tulokset järjestettynä  `Total volume`-kentän mukaan (suurin arvo ensimmäisenä).\n",
    "* Luo myös uusi kenttä `High - Low`, joka sisältää korkeimman hinnan ja matalimman hinnan välisen erotuksen\n"
   ]
  },
  {
   "cell_type": "code",
   "execution_count": 6,
   "id": "eacaede6",
   "metadata": {
    "pycharm": {
     "name": "#%%\n"
    }
   },
   "outputs": [],
   "source": [
    "# TODO: Tulosta ensimmäiset kymmenen päivää `Date` arvon perusteella"
   ]
  },
  {
   "cell_type": "code",
   "execution_count": 7,
   "id": "716cc002",
   "metadata": {
    "pycharm": {
     "name": "#%%\n"
    }
   },
   "outputs": [],
   "source": [
    "# TODO: Tulosta tulokset järjestettynä  `Total volume`-kentän mukaan."
   ]
  },
  {
   "cell_type": "code",
   "execution_count": 8,
   "id": "2d107285",
   "metadata": {
    "pycharm": {
     "name": "#%%\n"
    }
   },
   "outputs": [],
   "source": [
    "# TODO:  Luo myös uusi kenttä `High - Low` ja tulosta dataframe."
   ]
  },
  {
   "cell_type": "markdown",
   "id": "78c89ae4",
   "metadata": {
    "pycharm": {
     "name": "#%% md\n"
    }
   },
   "source": [
    "## Datan visualisointi  (T6.3 / 1p)\n",
    "\n",
    "Toteuta seuraavat kohdat tässä tehtävässä:\n",
    "\n",
    "Visualisoi aikasarjadata haluamallasi tavalla.\n",
    "* Valitse tähän ainakin kaksi eri kuvaajatyyppiä\n",
    "* Visualisoi data kenttien 'Low price' ja 'High price' avulla\n",
    "* Visualisoi esim. käyttäen `rolling`-operaattorin antama tasaisesti painotettu sarja\n",
    "* Visualisoi antaen *enemmän painoa* tuoreimmille havainnoille (`ewm` (exponentially weighted moving) -operaattori).\n",
    "Tällainen sarja adaptoituu nopeammin muutoksiin kuin `rolling`-operaattorin antama tasaisesti painotettu sarja.\n"
   ]
  },
  {
   "cell_type": "code",
   "execution_count": 9,
   "id": "547f7dde",
   "metadata": {
    "pycharm": {
     "name": "#%%\n"
    }
   },
   "outputs": [],
   "source": [
    "import matplotlib.pyplot as plt\n",
    "\n",
    "# TODO: Visualisoi data kenttien 'Low price' ja 'High price' avulla"
   ]
  },
  {
   "cell_type": "markdown",
   "id": "ce10f329",
   "metadata": {
    "pycharm": {
     "name": "#%% md\n"
    }
   },
   "source": [
    "Kuvaaja, jossa on mukana Rolling window 20 päivän ajalta."
   ]
  },
  {
   "cell_type": "code",
   "execution_count": 10,
   "id": "9f275f83",
   "metadata": {
    "pycharm": {
     "name": "#%%\n"
    }
   },
   "outputs": [],
   "source": [
    "# TODO: Rolling Window operaattorin käyttö visualisoinnissa"
   ]
  },
  {
   "cell_type": "markdown",
   "id": "e2009e6b",
   "metadata": {
    "pycharm": {
     "name": "#%% md\n"
    }
   },
   "source": [
    "#### Tuoreempien havaintojen painottaminen\n",
    "\n",
    "Usein käytetään menetelmiä, missä annetaan *enemmän painoa* tuoreimmille havainnoille.\n",
    "Tällainen sarja adaptoituu nopeammin muutoksiin kuin `rolling`-operaattorin antama tasaisesti painotettu sarja.\n",
    "\n",
    "`ewm` (*exponentially weighted moving*) -operaattori antaa tällaisen sarjan, span-parametri määrittää ikkunan koon."
   ]
  },
  {
   "cell_type": "code",
   "execution_count": 11,
   "id": "f1b2f4f8",
   "metadata": {
    "pycharm": {
     "name": "#%%\n"
    }
   },
   "outputs": [],
   "source": [
    "# TODO: ewn operaattorin käyttö visualisoinnissa\n",
    "\n"
   ]
  },
  {
   "cell_type": "markdown",
   "id": "9b0da6bd",
   "metadata": {
    "pycharm": {
     "name": "#%% md\n"
    }
   },
   "source": [
    "## Outlierit ja korrelaatiot (T6.4 / 1p)\n",
    "\n",
    "Toteuta seuraavat kohdat tässä tehtävässä:\n",
    "\n",
    "* Datasta tulee tarkastaa ainakin jokaisen numeerisen sarakkeen merkittävät poikkeamat. Merkittävästi poikkeava arvo voidaan tarvittaessa korvata (millä tavalla?).\n",
    "* Rivin poikkeamien havaitsemiseen voi käyttää `2%` ja `98%` prosenttipisteitä datasta\n",
    "* laske myös **Pearsonin korrelaatiokerroin** sekä **selityskerroin**."
   ]
  },
  {
   "cell_type": "code",
   "execution_count": 12,
   "id": "92d1d57d",
   "metadata": {
    "pycharm": {
     "name": "#%%\n"
    }
   },
   "outputs": [],
   "source": [
    "\n",
    "# TODO: laske poikkeamat (2% - 98%)"
   ]
  },
  {
   "cell_type": "markdown",
   "id": "34e4033b",
   "metadata": {
    "pycharm": {
     "name": "#%% md\n"
    }
   },
   "source": [
    "#### Korrelaatio\n",
    "\n",
    "laske **Pearsonin korrelaatiokerroin** sekä **selityskerroin**.\n",
    "Liitä mukaan myös Sanallinen tulkinta tuloksista.\n",
    "\n",
    "#### Kahden muuttujan välinen riippuvuus\n",
    "Kahden määrällisen muuttujan riippuvuutta tarkastellaan **hajontakaavion** ja **korrelaatiokertoimen** avulla.\n",
    "\n",
    "#### Hajontakaavio\n",
    "**Hajontakaavio** antaa nopea silmäyksen kahden muuttujan arvojen jakautumiseen.\n",
    "* Yleensä ollaan kiinnostuneita liittyykö suuriin x:n arvoihin suuria tai pieniä y:n arvoja (korrelaatiota havaittavissa)\n",
    "vai satunnaisia y:n arvoja (ei merkittävää korrelaatiota).\n"
   ]
  },
  {
   "cell_type": "code",
   "execution_count": null,
   "id": "d32a8b3a",
   "metadata": {},
   "outputs": [],
   "source": [
    "#Pearsonin korrelaatiokerroin ja selityslkerroin\n"
   ]
  },
  {
   "cell_type": "code",
   "execution_count": 1,
   "id": "33545214",
   "metadata": {
    "pycharm": {
     "name": "#%%\n"
    }
   },
   "outputs": [
    {
     "ename": "NameError",
     "evalue": "name 'df' is not defined",
     "output_type": "error",
     "traceback": [
      "\u001b[1;31m---------------------------------------------------------------------------\u001b[0m",
      "\u001b[1;31mNameError\u001b[0m                                 Traceback (most recent call last)",
      "\u001b[1;32m~\\AppData\\Local\\Temp/ipykernel_1192/1830568461.py\u001b[0m in \u001b[0;36m<module>\u001b[1;34m\u001b[0m\n\u001b[0;32m      1\u001b[0m \u001b[1;31m# TODO: Laske Opening price korrelaatio kenttään\u001b[0m\u001b[1;33m\u001b[0m\u001b[1;33m\u001b[0m\u001b[0m\n\u001b[1;32m----> 2\u001b[1;33m \u001b[0mprint\u001b[0m\u001b[1;33m(\u001b[0m\u001b[0mdf\u001b[0m\u001b[1;33m[\u001b[0m\u001b[1;34m'Opening price'\u001b[0m\u001b[1;33m]\u001b[0m\u001b[1;33m.\u001b[0m\u001b[0mcorr\u001b[0m\u001b[1;33m(\u001b[0m\u001b[0mdf\u001b[0m\u001b[1;33m[\u001b[0m\u001b[1;34m'Closing price'\u001b[0m\u001b[1;33m]\u001b[0m\u001b[1;33m)\u001b[0m\u001b[1;33m)\u001b[0m\u001b[1;33m\u001b[0m\u001b[1;33m\u001b[0m\u001b[0m\n\u001b[0m",
      "\u001b[1;31mNameError\u001b[0m: name 'df' is not defined"
     ]
    }
   ],
   "source": [
    "\n",
    "# TODO: Laske Opening price korrelaatio kenttään \n",
    "print(df['Opening price'].corr(df['Closing price']))"
   ]
  },
  {
   "cell_type": "code",
   "execution_count": 14,
   "id": "c99e5b79",
   "metadata": {
    "pycharm": {
     "name": "#%%\n"
    }
   },
   "outputs": [],
   "source": [
    "\n",
    "# TODO: Laske Opening price korrelaatiot muihin kenttiin"
   ]
  },
  {
   "cell_type": "markdown",
   "id": "40b972a5",
   "metadata": {
    "pycharm": {
     "name": "#%% md\n"
    }
   },
   "source": [
    "Ja vielä **Kaikkien luettujen** sarakkeiden väliset korrelaatiot"
   ]
  },
  {
   "cell_type": "code",
   "execution_count": 15,
   "id": "558e6195",
   "metadata": {
    "pycharm": {
     "name": "#%%\n"
    }
   },
   "outputs": [],
   "source": [
    "# TODO: Laske kaikkien kenttien korrelaatiot"
   ]
  },
  {
   "cell_type": "markdown",
   "id": "657c0f36",
   "metadata": {
    "pycharm": {
     "name": "#%% md\n"
    }
   },
   "source": [
    "Selityskerroin"
   ]
  },
  {
   "cell_type": "code",
   "execution_count": 16,
   "id": "94bc38dd",
   "metadata": {
    "pycharm": {
     "name": "#%%\n"
    }
   },
   "outputs": [],
   "source": [
    "# TODO: Laske Selityskerroin"
   ]
  },
  {
   "cell_type": "markdown",
   "id": "aa14035f",
   "metadata": {
    "pycharm": {
     "name": "#%% md\n"
    }
   },
   "source": [
    "#### HeatMap\n",
    "\n",
    "**HeatMap** on 2-ulotteinen matriisikuvio, joka antaa visualisoinnin numeerisista tiedoista solujen muodossa.\n",
    "HeatMap-kartan värisävyt edustavat arvon suhdetta DataFrameen."
   ]
  },
  {
   "cell_type": "code",
   "execution_count": 17,
   "id": "f4452106",
   "metadata": {
    "pycharm": {
     "name": "#%%\n"
    }
   },
   "outputs": [],
   "source": [
    "# TODO: visualisointi: Korrelaatiot ja/tai selityskertoimet HeatMap-kuviona"
   ]
  },
  {
   "cell_type": "markdown",
   "id": "ddc1ad09",
   "metadata": {
    "pycharm": {
     "name": "#%% md\n"
    }
   },
   "source": [
    "## Regressiomalli (T6.5 / 1p)\n",
    "\n",
    "Toteuta seuraavat kohdat tässä tehtävässä:\n",
    "\n",
    "* Rakenna datasta **Lineaarinen regressiomalli**\n",
    "* Lineeaarinen malli riippuvuudelle saadaan tuomalla `sklearn.lineal_model`-kirjastosta `LinearRegression`-luokka\n",
    "* Visualisointiin voi käyttää `seaborn`-kirjaston `regplot`-metodia\n",
    "\n",
    "Jos on hyvä motivaatio tehdä lisää data-analytiikkaa, niin voit vielä miettiä seuraavaa kohtaa:\n",
    "* Vapaahtoinen extratehtävä: Rakenna datasta joku toinen regressiomalli"
   ]
  },
  {
   "cell_type": "markdown",
   "id": "f71a0a04",
   "metadata": {
    "pycharm": {
     "name": "#%% md\n"
    }
   },
   "source": [
    "#### RegPlot"
   ]
  },
  {
   "cell_type": "code",
   "execution_count": 18,
   "id": "48d83131",
   "metadata": {
    "pycharm": {
     "name": "#%%\n"
    }
   },
   "outputs": [],
   "source": [
    "# TODO: Visualisointi regressiomallille"
   ]
  },
  {
   "cell_type": "markdown",
   "id": "e9402b34",
   "metadata": {
    "pycharm": {
     "name": "#%% md\n"
    }
   },
   "source": [
    "#### Regressiomalli -  Lineaarinen malli riippuvuudelle\n",
    "\n",
    "Lineeaarinen malli riippuvuudelle saadaan tuomalla `sklearn.lineal_model`-kirjastosta `LinearRegression`-luokka.\n",
    "* valitse **selittävä muuttuja (x)** sekä **selitettävä muuttuja (y)**"
   ]
  },
  {
   "cell_type": "code",
   "execution_count": 19,
   "id": "bcdeaa21",
   "metadata": {
    "pycharm": {
     "name": "#%%\n"
    }
   },
   "outputs": [
    {
     "name": "stderr",
     "output_type": "stream",
     "text": [
      "C:\\Users\\juha\\anaconda3\\envs\\mlearn_env\\lib\\site-packages\\scipy\\__init__.py:146: UserWarning: A NumPy version >=1.16.5 and <1.23.0 is required for this version of SciPy (detected version 1.23.1\n",
      "  warnings.warn(f\"A NumPy version >={np_minversion} and <{np_maxversion}\"\n"
     ]
    }
   ],
   "source": [
    "from sklearn.linear_model import LinearRegression\n",
    "\n",
    "# TODO: Regressiomalli: Lineaarinen malli valituille kentille.\n",
    "# TODO: Perustele myös valinta."
   ]
  },
  {
   "cell_type": "markdown",
   "id": "394b0fc8",
   "metadata": {
    "pycharm": {
     "name": "#%% md\n"
    }
   },
   "source": [
    "## Lisätehtävä: Tulosanalyysi\n",
    "Tulkitse vielä kaikki saamasi tulokset sanallisesti.\n",
    "* aineisto\n",
    "* esikäsittely\n",
    "* visualisointi\n",
    "* korrelaatio\n",
    "* aikasarjadata\n",
    "* regressiomalli"
   ]
  }
 ],
 "metadata": {
  "jupytext": {
   "cell_metadata_filter": "-all",
   "main_language": "python",
   "notebook_metadata_filter": "-all"
  },
  "kernelspec": {
   "display_name": "Python 3 (ipykernel)",
   "language": "python",
   "name": "python3"
  },
  "language_info": {
   "codemirror_mode": {
    "name": "ipython",
    "version": 3
   },
   "file_extension": ".py",
   "mimetype": "text/x-python",
   "name": "python",
   "nbconvert_exporter": "python",
   "pygments_lexer": "ipython3",
   "version": "3.9.7"
  }
 },
 "nbformat": 4,
 "nbformat_minor": 5
}
