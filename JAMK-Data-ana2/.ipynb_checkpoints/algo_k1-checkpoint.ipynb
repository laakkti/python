{
 "cells": [
  {
   "cell_type": "markdown",
   "id": "b529edec",
   "metadata": {},
   "source": [
    "Toteuta python funktio F(x), joka ottaa argumentikseen kokonaisluvun x ja laskee polynomifunktion F(x)=2x^3+1 arvon."
   ]
  },
  {
   "cell_type": "code",
   "execution_count": null,
   "id": "209920d1",
   "metadata": {},
   "outputs": [],
   "source": [
    "def F(x):\n",
    "    \n",
    "    # Kirjoita vastauksesi tähän alle:\n",
    "    tulos=2*pow(x,3)+1\n",
    "    # Otathan huomioon, että \"x\" muuttujassa on annettuna kokonaisluku, jota algoritmi käsittelee.\n",
    "    \n",
    "    # Lopuksi haluttu tulos palautetaan tulos muuttujassa.\n",
    "    return tulos\n",
    "\n",
    "print(F(3))"
   ]
  }
 ],
 "metadata": {
  "kernelspec": {
   "display_name": "Python 3 (ipykernel)",
   "language": "python",
   "name": "python3"
  },
  "language_info": {
   "codemirror_mode": {
    "name": "ipython",
    "version": 3
   },
   "file_extension": ".py",
   "mimetype": "text/x-python",
   "name": "python",
   "nbconvert_exporter": "python",
   "pygments_lexer": "ipython3",
   "version": "3.9.7"
  }
 },
 "nbformat": 4,
 "nbformat_minor": 5
}
