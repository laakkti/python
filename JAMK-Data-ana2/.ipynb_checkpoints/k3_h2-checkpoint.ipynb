{
 "cells": [
  {
   "cell_type": "markdown",
   "id": "e656081c",
   "metadata": {},
   "source": [
    "Kunnat ja maakuntien tilastolliset tiedot\n",
    "Tee funktio maakunnat(url), joka laskee maakuntien ei-kaupungien (Muu Kunta) väkiluvut yhteen sekä tulostaa ne maakunnat, joissa asuu eniten “Muu kunta” -kunnissa (eli ei kaupungeissa) asuvia asukkaita.\n",
    "\n",
    "lataa datan DataFrameen url:sta (sarakkeiden erotinmerkki on puolipiste ja desimaalimerkki on pilkku),\n",
    "kopioi uuteen DataFrameen kaikki sarakkeet ja rivit, jossa sarakkeessa ‘kuntamuoto’ esiintyy merkkijono ‘Muu kunta’\n",
    "Laskee yhteen edellä haettujen kuntien asukasluvut ryhmittelemällä (groupby()-funktio) ne maakunnan mukaan\n",
    "Muodostaa tuloksista DataFrame, jossa on kentät on järjestetty maakunnan ‘Väkiluku’ -kentän mukaan laskevasti (ts. järjestyksessä suurimmasta pienimpän)\n",
    "tulostaa vain sarakkeet: ‘Väkiluku’, ‘kokonaispinta-ala’\n",
    "tulostaa lopputulokseen kuusi (6) ensimmäistä riviä.\n",
    "Tässä tehtävässä url=https://student.labranet.jamk.fi/~pelju/data_av/sources/kunnat.csv\n",
    "\n",
    "Testi:\n",
    "maakunnat(\"https://student.labranet.jamk.fi/~pelju/data_av/sources/kunnat.csv\")\n",
    "\n",
    "Tulos:\n",
    "maakunta           Väkiluku  kokonaispinta-ala\n",
    "                                      \n",
    "Uusimaa              219203            5751.35\n",
    "Pohjois-Pohjanmaa     95571           21035.99\n",
    "Varsinais-Suomi       82793            7327.68\n",
    "Pirkanmaa             79856            4493.22\n",
    "Pohjois-Savo          69339           12357.90\n",
    "Keski-Suomi           69317           11077.61"
   ]
  },
  {
   "cell_type": "code",
   "execution_count": 17,
   "id": "9105a416",
   "metadata": {},
   "outputs": [
    {
     "name": "stdout",
     "output_type": "stream",
     "text": [
      "                   Väkiluku  kokonaispinta-ala\n",
      "maakunta                                      \n",
      "Uusimaa              219203            5751.35\n",
      "Pohjois-Pohjanmaa     95571           21035.99\n",
      "Varsinais-Suomi       82793            7327.68\n",
      "Pirkanmaa             79856            4493.22\n",
      "Pohjois-Savo          69339           12357.90\n",
      "Keski-Suomi           69317           11077.61\n"
     ]
    }
   ],
   "source": [
    "def maakunnat(url):\n",
    "    import pandas as pd\n",
    "    import numpy as np\n",
    "    \n",
    "    df = pd.read_csv(url,delimiter=\";\",decimal=\",\")\n",
    "    df4=df.loc[df['kuntamuoto'].str.contains('Muu kunta')]    \n",
    "    groups=df4.groupby('maakunta')\n",
    "    df2 = pd.DataFrame(groups['Väkiluku'].sum())    \n",
    "    df2['kokonaispinta-ala'] = groups['kokonaispinta-ala'].sum()\n",
    "    tulos=df2.sort_values(by=['Väkiluku'],ascending=False)[:6]\n",
    "    print(tulos)\n",
    "        \n",
    "url=\"https://student.labranet.jamk.fi/~pelju/data_av/sources/kunnat.csv\"\n",
    "maakunnat(url)         "
   ]
  },
  {
   "cell_type": "code",
   "execution_count": null,
   "id": "01947191",
   "metadata": {},
   "outputs": [],
   "source": []
  },
  {
   "cell_type": "code",
   "execution_count": null,
   "id": "e4dfd6dc",
   "metadata": {},
   "outputs": [],
   "source": []
  }
 ],
 "metadata": {
  "kernelspec": {
   "display_name": "Python 3 (ipykernel)",
   "language": "python",
   "name": "python3"
  },
  "language_info": {
   "codemirror_mode": {
    "name": "ipython",
    "version": 3
   },
   "file_extension": ".py",
   "mimetype": "text/x-python",
   "name": "python",
   "nbconvert_exporter": "python",
   "pygments_lexer": "ipython3",
   "version": "3.9.7"
  }
 },
 "nbformat": 4,
 "nbformat_minor": 5
}
