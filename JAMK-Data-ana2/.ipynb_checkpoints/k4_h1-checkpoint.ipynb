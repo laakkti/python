{
 "cells": [
  {
   "cell_type": "markdown",
   "id": "e656081c",
   "metadata": {},
   "source": [
    "Autodatan yhdistäminen\n",
    "Tee funktio autot(url1, url2), joka tekee järjestyksessä seuraavaa:\n",
    "\n",
    "lataa datat DataFrameihin url1:sta ja url2:sta, joissa erotinmerkkinä on puolipiste (';'),\n",
    "yhdistää uuteen DataFrameen autoihin liittyvät datat url1:stä ja url2:sta (tutki tarvittaessa mitä dataa urleista on saatavilla),\n",
    "tekee juuri yhdistetystä DataFramesta Serieksen, josta käy ilmi kuinka monta automerkkiä datassa on (automerkki on sarakkeessa 'Cn'),\n",
    "tulostaa em. Serieksestä viisi eniten esiintyvää automerkkiä.\n",
    "Tässä tehtävässä:\n",
    "\n",
    "url1=https://student.labranet.jamk.fi/~huoptu/datananal_s20/kerta4/harjoitukset/autotA1.csv\n",
    "url2=https://student.labranet.jamk.fi/~huoptu/datananal_s20/kerta4/harjoitukset/autotA2.csv\n",
    "\n",
    "Esimerkiksi:\n",
    "\n",
    "Testi:\n",
    "\n",
    "autot(\"https://student.labranet.jamk.fi/~huoptu/datananal_s20/kerta4/harjoitukset/autotA1.csv\", \"https://student.labranet.jamk.fi/~huoptu/datananal_s20/kerta4/harjoitukset/autotA2.csv\")\n",
    "\n",
    "Tulos:\n",
    "OCTAVIA    396\n",
    "FABIA      377\n",
    "RAPID      197\n",
    "SUPERB     159\n",
    "KAROQ      148\n",
    "Name: Cn, dtype: int64\n"
   ]
  },
  {
   "cell_type": "code",
   "execution_count": 7,
   "id": "844a99d0",
   "metadata": {
    "scrolled": false
   },
   "outputs": [
    {
     "name": "stdout",
     "output_type": "stream",
     "text": [
      "OCTAVIA    396\n",
      "FABIA      377\n",
      "RAPID      197\n",
      "SUPERB     159\n",
      "KAROQ      148\n",
      "Name: Cn, dtype: int64\n"
     ]
    }
   ],
   "source": [
    "def autot(url1, url2):\n",
    "    import pandas as pd\n",
    "    import numpy as np    \n",
    "    df1 = pd.read_csv(url1,delimiter=\";\",decimal=\",\")   \n",
    "    df2 = pd.read_csv(url2,delimiter=\";\",decimal=\",\")    \n",
    "    df3 = df1.append(df2)\n",
    "    \n",
    "    tulos=df3['Cn'].value_counts(sort=True,ascending=False)[:5]        \n",
    "    print(tulos)\n",
    "\n",
    "url1='https://student.labranet.jamk.fi/~huoptu/datananal_s20/kerta4/harjoitukset/autotA1.csv'\n",
    "url2='https://student.labranet.jamk.fi/~huoptu/datananal_s20/kerta4/harjoitukset/autotA2.csv'\n",
    "autot(url1,url2)             "
   ]
  },
  {
   "cell_type": "code",
   "execution_count": null,
   "id": "6375d3ab",
   "metadata": {},
   "outputs": [],
   "source": []
  }
 ],
 "metadata": {
  "kernelspec": {
   "display_name": "Python 3 (ipykernel)",
   "language": "python",
   "name": "python3"
  },
  "language_info": {
   "codemirror_mode": {
    "name": "ipython",
    "version": 3
   },
   "file_extension": ".py",
   "mimetype": "text/x-python",
   "name": "python",
   "nbconvert_exporter": "python",
   "pygments_lexer": "ipython3",
   "version": "3.9.7"
  }
 },
 "nbformat": 4,
 "nbformat_minor": 5
}
