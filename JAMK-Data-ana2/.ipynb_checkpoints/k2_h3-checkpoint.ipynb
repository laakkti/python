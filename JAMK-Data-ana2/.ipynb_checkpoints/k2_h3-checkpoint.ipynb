{
 "cells": [
  {
   "cell_type": "markdown",
   "id": "8486c2d0",
   "metadata": {},
   "source": [
    "Kunta-datan käsittely (uudet datakentät)\n",
    "Tee funktio vesiala(url), joka tekee seuraavaa:\n",
    "\n",
    "lataa datan DataFrameen url:sta (sarakkeiden erotinmerkki on puolipiste ja desimaalimerkki on pilkku),\n",
    "kopioi uuteen DataFrameen kaikki sarakkeet ja rivit, jossa sarakkeessa ‘kuntamuoto’ esiintyy merkkijonot ‘Kaupunki’\n",
    "kopioi uuteen DataFrameen kaikki sarakkeet ja rivit, jossa sarakkeessa ‘maakunta’ esiintyy merkkijonot ‘Varsinais-Suomi’ tai ‘Etelä-Savo’\n",
    "laske uusi sarake ‘vesipinta-ala’, joka lasketaan vähentämällä 'kokonaispinta-ala' -sarakkeesta 'maapinta-ala'. Lisää uusi sarake 'vesipinta-ala' DataFrameen\n",
    "Lajittele DataFramessa olevat kaupungit laskevaan järjestykseen (suurin ensin) uuden ‘vesipinta-ala’-sarakkeen mukaan\n",
    "Valitse tulostukseen mukaan seuraavat sarakkeet: ‘kunta’, ‘maakunta’, ‘vesipinta-ala’, ‘kokonaispinta-ala’, ja ‘Väkiluku’.\n",
    "tulosta lopputulokseen viisi ensimmäistä riviä.\n",
    "\n",
    "Tässä tehtävässä url=https://student.labranet.jamk.fi/~pelju/data_av/sources/kunnat.csv\n",
    "Huom! Rivi-indeksi on esitetty ensimmäisessä sarakkeessa.\n",
    "\n",
    "\n",
    "\n",
    "Esimerkiksi:\n",
    "vesiala(\"https://student.labranet.jamk.fi/~pelju/data_av/sources/kunnat.csv\")\n",
    "\n",
    "Tulos:\n",
    "  kunta         maakunta  vesipinta-ala  kokonaispinta-ala  Väkiluku\n",
    "185      Parainen  Varsinais-Suomi        4664.99            5548.11     15217\n",
    "286  Uusikaupunki  Varsinais-Suomi        1429.68            1932.43     15700\n",
    "241    Savonlinna       Etelä-Savo        1359.61            3597.70     33611\n",
    "157       Mikkeli       Etelä-Savo         681.21            3229.57     53818\n",
    "168      Naantali  Varsinais-Suomi         375.56             688.01     19245"
   ]
  },
  {
   "cell_type": "code",
   "execution_count": 2,
   "id": "16b1d3e1",
   "metadata": {},
   "outputs": [
    {
     "name": "stdout",
     "output_type": "stream",
     "text": [
      "            kunta         maakunta  vesipinta-ala  kokonaispinta-ala  Väkiluku\n",
      "185      Parainen  Varsinais-Suomi        4664.99            5548.11     15217\n",
      "286  Uusikaupunki  Varsinais-Suomi        1429.68            1932.43     15700\n",
      "241    Savonlinna       Etelä-Savo        1359.61            3597.70     33611\n",
      "157       Mikkeli       Etelä-Savo         681.21            3229.57     53818\n",
      "168      Naantali  Varsinais-Suomi         375.56             688.01     19245\n"
     ]
    }
   ],
   "source": [
    "def vesiala(url):\n",
    "    # Kirjoita vastauksesi tähän alle:\n",
    "    import pandas as pd    \n",
    "    df = pd.read_csv(url,delimiter=\";\",decimal=\",\")    \n",
    "    df3=df.loc[((df['kuntamuoto'].str.contains('Kaupunki')) & ((df['maakunta'].str.contains('Varsinais-Suomi')) | (df['maakunta'].str.contains('Etelä-Savo'))))]\n",
    "    df3.insert(len(df3.columns),'vesipinta-ala',df3['kokonaispinta-ala']-df3['maapinta-ala'],True)    \n",
    "    df3=df3[['kunta', 'maakunta', 'vesipinta-ala', 'kokonaispinta-ala','Väkiluku']]    \n",
    "    tulos = df3.sort_values(['vesipinta-ala'],ascending = [False])[:5]    \n",
    "    print(tulos)\n",
    "    \n",
    "url=\"https://student.labranet.jamk.fi/~pelju/data_av/sources/kunnat.csv\" \n",
    "vesiala(url)"
   ]
  },
  {
   "cell_type": "code",
   "execution_count": null,
   "id": "0f97ce89",
   "metadata": {},
   "outputs": [],
   "source": []
  }
 ],
 "metadata": {
  "kernelspec": {
   "display_name": "Python 3 (ipykernel)",
   "language": "python",
   "name": "python3"
  },
  "language_info": {
   "codemirror_mode": {
    "name": "ipython",
    "version": 3
   },
   "file_extension": ".py",
   "mimetype": "text/x-python",
   "name": "python",
   "nbconvert_exporter": "python",
   "pygments_lexer": "ipython3",
   "version": "3.9.7"
  }
 },
 "nbformat": 4,
 "nbformat_minor": 5
}
