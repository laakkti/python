{
 "cells": [
  {
   "cell_type": "markdown",
   "id": "e656081c",
   "metadata": {},
   "source": [
    "Kunnat ja kuntatilastot\n",
    "Tee funktio kuntatilastot(url), joka laskee erikseen neljän maakunnan ja niissä olevien kaupungien ja ei-kaupunkien (Muu Kunta) tavanomaiset tilastotiedot omiin DataFrame-rakenteisiin sekä tulostaa niiden asukaslukujen summan, keskiarvon ja mediaanin (sum, mean, median).\n",
    "\n",
    "lataa datan DataFrameen url:sta (sarakkeiden erotinmerkki on puolipiste ja desimaalimerkki on pilkku),\n",
    "\n",
    "Valitse DataFramesta seuraavat neljä maakuntaa: 'Uusimaa', 'Päijät-Häme', 'Kanta-Häme', 'Pirkanmaa'\n",
    "\n",
    "kopioi ensimmäiseen DataFrameen kaikki sarakkeet ja rivit, jossa sarakkeessa ‘kuntamuoto’ esiintyy merkkijono ‘Kaupunki’\n",
    "\n",
    "kopioi toiseen DataFrameen kaikki sarakkeet ja rivit, jossa sarakkeessa ‘kuntamuoto’ esiintyy merkkijono ‘Muu kunta’\n",
    "\n",
    "Tee uusi DataFrame, johon lisäät molempien DataFrame-rakenteiden 'Väkiluku'-sarakkeen mukaiset tilastotiedot seuraaviin uusiin sarakkeisiin: ‘Tyyppi’: (‘Kaupunki’ tai ‘Muu kunta’), ‘Keskiarvo’, ‘Mediaani’ ja ‘Summa’.\n",
    "\n",
    "tulosta DataFramen tulokset pyöristäen tulokset lähimpään kokonaislukuun (ensin kaupungien tiedot)\n",
    "\n",
    "Tässä tehtävässä url=https://student.labranet.jamk.fi/~pelju/data_av/sources/kunnat.csv\n",
    "\n",
    "Testi:\n",
    "kuntatilastot(\"https://student.labranet.jamk.fi/~pelju/data_av/sources/kunnat.csv\")\n",
    "\n",
    "Tulos:\n",
    "    Tyyppi  Keskiarvo  Mediaani    Summa\n",
    "0   Kaupunki      69525     27592  2155287\n",
    "1  Muu kunta      10887      5403   402825"
   ]
  },
  {
   "cell_type": "code",
   "execution_count": 14,
   "id": "9105a416",
   "metadata": {},
   "outputs": [
    {
     "name": "stdout",
     "output_type": "stream",
     "text": [
      "Tyyppi       object\n",
      "Keskiarvo     int32\n",
      "Mediaani      int32\n",
      "Summa         int32\n",
      "dtype: object\n",
      "      Tyyppi  Keskiarvo  Mediaani    Summa\n",
      "0   Kaupunki      69525     27592  2155287\n",
      "1  Muu kunta      10833      5403   400825\n"
     ]
    }
   ],
   "source": [
    "def kuntatilastot(url):\n",
    "    import pandas as pd\n",
    "    import numpy as np\n",
    "    \n",
    "    df = pd.read_csv(url,delimiter=\";\",decimal=\",\")\n",
    "    df2=df.loc[df['maakunta'].isin(['Uusimaa','Päijät-Häme','Kanta-Häme','Pirkanmaa'])].copy()\n",
    "    df3=df2.loc[df['kuntamuoto']=='Kaupunki']\n",
    "    df4=df2.loc[df['kuntamuoto']=='Muu kunta']\n",
    "    df5 = pd.DataFrame(columns=['Tyyppi','Keskiarvo','Mediaani','Summa'])    \n",
    "    df5 = df5.append(pd.Series(['Kaupunki',df3['Väkiluku'].mean(), df3['Väkiluku'].median(),df3['Väkiluku'].sum()],index=df5.columns), ignore_index=True)\n",
    "    df5 = df5.append(pd.Series(['Muu kunta',df4['Väkiluku'].mean(), df4['Väkiluku'].median(),df4['Väkiluku'].sum()],index=df5.columns), ignore_index=True)\n",
    "  \n",
    "    df5['Tyyppi']=df5['Tyyppi'].astype('str')\n",
    "    df5['Keskiarvo']=df5['Keskiarvo'].round(0).astype(int)\n",
    "    df5['Mediaani']=df5['Mediaani'].round(0).astype(int)\n",
    "    df5['Summa']=df5['Summa'].astype(int)\n",
    "    \n",
    "    tulos=df5\n",
    "    print(tulos.dtypes)\n",
    "    print(tulos)\n",
    "    \n",
    "#url=\"https://student.labranet.jamk.fi/~pelju/data_av/sources/kunnat.csv\"\n",
    "\t\n",
    "url=\"https://student.labranet.jamk.fi/~pelju/data_av/sources/kunnat_2.csv\"\n",
    "kuntatilastot(url)         "
   ]
  },
  {
   "cell_type": "code",
   "execution_count": null,
   "id": "01947191",
   "metadata": {},
   "outputs": [],
   "source": []
  },
  {
   "cell_type": "code",
   "execution_count": null,
   "id": "e4dfd6dc",
   "metadata": {},
   "outputs": [],
   "source": []
  }
 ],
 "metadata": {
  "kernelspec": {
   "display_name": "Python 3 (ipykernel)",
   "language": "python",
   "name": "python3"
  },
  "language_info": {
   "codemirror_mode": {
    "name": "ipython",
    "version": 3
   },
   "file_extension": ".py",
   "mimetype": "text/x-python",
   "name": "python",
   "nbconvert_exporter": "python",
   "pygments_lexer": "ipython3",
   "version": "3.9.7"
  }
 },
 "nbformat": 4,
 "nbformat_minor": 5
}
