{
 "cells": [
  {
   "cell_type": "markdown",
   "id": "8486c2d0",
   "metadata": {},
   "source": [
    "https://www.shecancode.io/blog/filter-a-pandas-dataframe-by-a-partial-string-or-pattern-in-8-ways\n",
    "\n",
    "\n",
    "Sähkön hintatietojen luokittelua\n",
    "Tee funktio sahko(url), joka tekee seuraavaa:\n",
    "\n",
    "Lukee url-osoitteesta datan DataFrameen, kun sarakkeiden erottimena on pilkku ja desimaalierottimena piste\n",
    "\n",
    "jos sarakkeissa Year Total €/MWh ja December €/MWh niiden välillä on merkki \".\", korvataan merkki NumPy:n nan-arvolla hyödyntäen isin()-metodia,\n",
    "\n",
    "tekee DataFrameen uuden sarakkeen 'hintaluokka', jossa on viisi hintaluokkaa sarakkeesta 'Year Total €/MWh' siten, että alimman ja ylimmän hintaluokan hinnat ovat 'Year Total €/MWh'-sarakkeen pienimmät ja suurimmat arvot,\n",
    "\n",
    "tulostaa hintaluokka-sarakkeen hintaluokkien lukumäärät value_counts()-metodilla,\n",
    "\n",
    "tarkista lopuksi, että funktio järjestää tulosteen samoin kuin esimerkkivastauksessa.\n",
    "\n",
    "Tässä tehtävässä url=https://student.labranet.jamk.fi/~huoptu/datananal_s20/kerta2/harjoitukset/ehi_010_2020q2.csv\n",
    "\n",
    "\n",
    "Esimerkiksi:\n",
    "sahko(\"https://student.labranet.jamk.fi/~huoptu/datananal_s20/kerta2/harjoitukset/ehi_010_2020q2.csv\")\n",
    "Tulos:\n",
    "(12.06, 21.256]     21\n",
    "(21.256, 30.452]    85\n",
    "(30.452, 39.648]    78\n",
    "(39.648, 48.844]    22\n",
    "(48.844, 58.04]     28\n",
    "Name: hintaluokka, dtype: int64\n"
   ]
  },
  {
   "cell_type": "code",
   "execution_count": 30,
   "id": "8d08759c",
   "metadata": {
    "scrolled": false
   },
   "outputs": [
    {
     "name": "stdout",
     "output_type": "stream",
     "text": [
      "(0.28, 11.268]      92\n",
      "(11.268, 22.256]    77\n",
      "(22.256, 33.244]    48\n",
      "(33.244, 44.232]    11\n",
      "(44.232, 55.22]      8\n",
      "Name: hintaluokka, dtype: int64\n"
     ]
    }
   ],
   "source": [
    "def sahko(url):\n",
    "    import pandas as pd\n",
    "    import numpy as np\n",
    "        \n",
    "    df = pd.read_csv(url,delimiter=\",\",decimal=\".\")    \n",
    "    df[df.loc[:,\"January €/MWh\":\"December €/MWh\":1].isin([\".\"])]=np.nan\n",
    "        \n",
    "    df['Year Total €/MWh'].replace(\".\",np.nan,inplace=True)    \n",
    "    df['Year Total €/MWh']=df['Year Total €/MWh'].astype(float)    \n",
    "    min=df['Year Total €/MWh'].min()\n",
    "    max=df['Year Total €/MWh'].max()\n",
    "    bins = np.linspace(min, max, 6, endpoint = True).round(3)\n",
    "    df.insert(len(df.columns),'hintaluokka',\"\",True)\n",
    "    \n",
    "    for i in range(5):        \n",
    "        df.loc[(df['Year Total €/MWh'] > bins[i]) & (df['Year Total €/MWh'] <= bins[i+1]), 'hintaluokka'] = \"(\"+str(bins[i])+\", \"+str(bins[i+1])+\"]\"\n",
    "        \n",
    "    df['hintaluokka'].replace('', np.nan, inplace=True)\n",
    "    df.dropna(subset = [\"hintaluokka\"], inplace=True)            \n",
    "    tulos=df['hintaluokka'].value_counts(sort=False)\n",
    "    \n",
    "    print(tulos)\n",
    "          \n",
    "#url=\"https://student.labranet.jamk.fi/~huoptu/datananal_s20/kerta2/harjoitukset/ehi_010_2020q2.csv\"\n",
    "url=\"https://student.labranet.jamk.fi/~huoptu/datananal_s20/kerta2/harjoitukset/data_h2_t1B.csv\"\n",
    "sahko(url)"
   ]
  },
  {
   "cell_type": "code",
   "execution_count": null,
   "id": "ac923fbf",
   "metadata": {},
   "outputs": [],
   "source": []
  },
  {
   "cell_type": "code",
   "execution_count": null,
   "id": "6024956f",
   "metadata": {},
   "outputs": [],
   "source": []
  }
 ],
 "metadata": {
  "kernelspec": {
   "display_name": "Python 3 (ipykernel)",
   "language": "python",
   "name": "python3"
  },
  "language_info": {
   "codemirror_mode": {
    "name": "ipython",
    "version": 3
   },
   "file_extension": ".py",
   "mimetype": "text/x-python",
   "name": "python",
   "nbconvert_exporter": "python",
   "pygments_lexer": "ipython3",
   "version": "3.9.7"
  }
 },
 "nbformat": 4,
 "nbformat_minor": 5
}
