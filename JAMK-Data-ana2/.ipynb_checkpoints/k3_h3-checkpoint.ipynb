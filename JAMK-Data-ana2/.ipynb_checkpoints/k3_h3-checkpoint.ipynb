{
 "cells": [
  {
   "cell_type": "markdown",
   "id": "e656081c",
   "metadata": {},
   "source": [
    "Kunnat ja äänestysprosentit\n",
    "Tee funktio kunnat(url), joka laskee tietyillä ehdoilla valittujen maakuntien kunnat, joissa on äänestetty eniten Keskusta-puoluetta.\n",
    "\n",
    "Tee ensin uusi DataFrame jossa on kaikki Suomen kunnat, joiden kuntamuoto on Kaupunki.\n",
    "\n",
    "tulosta ne 10 kuntaa, joissa taajama-aste on yli 70% ja Keskusta-puolueen kannatus 2019 eduskuntavaaleissa on suurin kaikista puolueista. Vertaa kannatusta vain seuraaviin puolueisiin: 'ev19-PS', 'ev19-KOK', 'ev19-VIHR', 'ev19-RKP', 'ev19-SDP'\n",
    "Lajittele tulokset Keskusta-puolueen kannatuksen mukaan siten, että suurimman kannatuksen Keskusta-puolueelle saanut kunta on ensimmäinen.\n",
    "Datassa on kentät alle 15-vuotiaiden ja yli 64-vuotiaiden osuudelle. Laske näiden avulla 15-64 vuotiaiden osuus äänestäjistä ja luo DataFrameen uusi kenttä nimeltään 15-64%.\n",
    "Tulosta vastauksena seuraavat DataFramen sarakkeet (kunta, Taajama-aste, ev19-KESK, 15-64%) - alla malliesimerkki: \n",
    "\n",
    "         kunta  Taajama-aste  ev19-KESK  15-64%\n",
    "75       Kannus          73.2       47.2    58.4\n",
    "\n",
    "Huom! DataFramen sisältö tulostetaan sellaisenaan ilman muotoiluja tässä tehtävässä.\n",
    "\n",
    "Tässä tehtävässä url=https://student.labranet.jamk.fi/~pelju/data_av/sources/kunnat.csv\n",
    "\n",
    "Testi:\n",
    "kunnat(\"https://student.labranet.jamk.fi/~pelju/data_av/sources/kunnat.csv\")\n",
    "\n",
    "Tulos:\n",
    "         kunta  Taajama-aste  ev19-KESK  15-64%\n",
    "75       Kannus          73.2       47.2    58.4\n",
    "305   Ylivieska          86.0       41.2    59.3\n",
    "70     Kalajoki          76.0       41.0    56.8\n",
    "37    Huittinen          70.8       38.2    57.1\n",
    "275      Tornio          87.8       37.9    60.0\n",
    "179    Oulainen          74.5       36.3    56.5\n",
    "87    Kemijärvi          70.1       34.9    52.4\n",
    "261  Suonenjoki          72.0       31.2    55.4\n",
    "217       Raahe          87.1       30.7    57.1\n",
    "194  Pieksämäki          76.1       27.2    57.2"
   ]
  },
  {
   "cell_type": "code",
   "execution_count": 18,
   "id": "9105a416",
   "metadata": {},
   "outputs": [
    {
     "name": "stdout",
     "output_type": "stream",
     "text": [
      "          kunta  Taajama-aste  ev19-KESK  15-64%\n",
      "75       Kannus          73.2       47.2    58.4\n",
      "305   Ylivieska          86.0       41.2    59.3\n",
      "70     Kalajoki          76.0       41.0    56.8\n",
      "37    Huittinen          70.8       38.2    57.1\n",
      "275      Tornio          87.8       37.9    60.0\n",
      "179    Oulainen          74.5       36.3    56.5\n",
      "87    Kemijärvi          70.1       34.9    52.4\n",
      "261  Suonenjoki          72.0       31.2    55.4\n",
      "217       Raahe          87.1       30.7    57.1\n",
      "194  Pieksämäki          76.1       27.2    57.2\n"
     ]
    }
   ],
   "source": [
    "def kunnat(url):\n",
    "    import pandas as pd\n",
    "    import numpy as np\n",
    "    \n",
    "    df = pd.read_csv(url,delimiter=\";\",decimal=\",\")\n",
    "    df4=df.loc[df['kuntamuoto']=='Kaupunki']            \n",
    "    df4=df4.loc[df['Taajama-aste']>70]        \n",
    "    df4=df4[df4.loc[:,['ev19-KESK', 'ev19-PS', 'ev19-KOK', 'ev19-VIHR', 'ev19-RKP', 'ev19-SDP']].max(axis=1)==df4['ev19-KESK']]\n",
    "    df4=df4.sort_values(by=['ev19-KESK'],ascending=False)\n",
    "    df4['15-64%']=100-df4['Alle 15-v. osuus%']-df4['Yli 64-v. osuus%']\n",
    "    tulos=df4[['kunta','Taajama-aste','ev19-KESK','15-64%']][:10]\n",
    "    print(tulos)\n",
    "    \n",
    "        \n",
    "url=\"https://student.labranet.jamk.fi/~pelju/data_av/sources/kunnat.csv\"\n",
    "kunnat(url)         "
   ]
  },
  {
   "cell_type": "code",
   "execution_count": null,
   "id": "01947191",
   "metadata": {},
   "outputs": [],
   "source": []
  },
  {
   "cell_type": "code",
   "execution_count": null,
   "id": "e4dfd6dc",
   "metadata": {},
   "outputs": [],
   "source": []
  }
 ],
 "metadata": {
  "kernelspec": {
   "display_name": "Python 3 (ipykernel)",
   "language": "python",
   "name": "python3"
  },
  "language_info": {
   "codemirror_mode": {
    "name": "ipython",
    "version": 3
   },
   "file_extension": ".py",
   "mimetype": "text/x-python",
   "name": "python",
   "nbconvert_exporter": "python",
   "pygments_lexer": "ipython3",
   "version": "3.9.7"
  }
 },
 "nbformat": 4,
 "nbformat_minor": 5
}
