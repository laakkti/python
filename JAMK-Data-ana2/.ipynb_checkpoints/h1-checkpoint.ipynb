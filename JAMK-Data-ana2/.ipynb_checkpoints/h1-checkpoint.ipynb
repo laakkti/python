{
 "cells": [
  {
   "cell_type": "code",
   "execution_count": 1,
   "id": "02d70433",
   "metadata": {},
   "outputs": [
    {
     "name": "stdout",
     "output_type": "stream",
     "text": [
      "[10 20 30 40]\n"
     ]
    }
   ],
   "source": [
    "import numpy as np\n",
    "\n",
    "# Luodaan yksiulotteinen neljan alkion taulukko (eli vektori)\n",
    "\n",
    "vektori = np.array([10, 20, 30, 40])\n",
    "print(vektori)"
   ]
  },
  {
   "cell_type": "code",
   "execution_count": null,
   "id": "c192d249",
   "metadata": {},
   "outputs": [],
   "source": []
  },
  {
   "cell_type": "markdown",
   "id": "e656081c",
   "metadata": {},
   "source": [
    "Looginen valinta ja laskenta NumPy taulukoilla\n",
    "Tee NumPy taulukoita hyväksikäyttäen funktio vertaa(luvut1, luvut2), joka ottaa argumenteikseen Python-taulukot (luvut1 ja luvut2) ja tekee seuraavat laskutoimitukset:\n",
    "\n",
    "Luodaan taulukoista luvut1 ja luvut2 uudet saman kokoiset NumPy-taulukot, joissa on samat lukuarvot. Jatkolaskut tehdään pelkästään luotujen NumPy-taulukoiden avulla.\n",
    "Jos taulukossa luvut1 alkio rivillä i ja sarakkeessa j on pienempi kuin taulukossa luvut2 alkio rivillä i ja sarakkeessa j, sijoitetaan taulukkoon luvut1 riville i ja sarakkeeseen j kokonaisluku -1.\n",
    "Lasketaan \"tulos\" taulukoksi alkioittainen summa luvut1 ja luvut2 taulukoiden arvoista.\n",
    "Alkioittaisessa summassa lasketaan yhteen summattavien taulukoiden alkiot, joilla on sama rivi- ja sarakeindeksi.\n",
    "Annetaan vastaukseksi tulos-taulukko tulosteena ilman ylimääräisiä muotoiluja.\n",
    "Funktiolle vertaa annettavat (3 x 3) Python-taulukot ovat:\n",
    "\n",
    "luvut1 = [[12, 2, 4], [5, 1, 2], [9, 3, 45]]\n",
    "luvut2 = [[11, 9, 32], [2, 3, 1], [0, 3, 10]]\n",
    "\n",
    "\n",
    "Esimerkiksi:\n",
    "\n",
    "Testi\n",
    "vertaa([[12, 2, 4], [5, 1, 2], [9, 3, 45]], [[11, 9, 32], [2, 3, 1], [0, 3, 10]])\n",
    "Tulos\n",
    "[[23  8 31]\n",
    " [ 7  2  3]\n",
    " [ 9  6 55]]\n"
   ]
  },
  {
   "cell_type": "code",
   "execution_count": null,
   "id": "dbffe323",
   "metadata": {},
   "outputs": [],
   "source": [
    "def vertaa(luvut1, luvut2):\n",
    "    # Kirjoita vastauksesi tämän funktiorakenteen sisälle:\n",
    "    \n",
    "    # Muunna taulukot ennen operaatioita numpy-taulukoiksi \n",
    "    # vinkki: np_luvut1[(vertailuehto)] = sijoitettava_arvo\n",
    "    \n",
    "    # Älä kirjoita missään tapauksessa muita print komentoja tämän rakenteen sisälle, koska silloin vastauksesi tulkitaan virheelliseksi.\n",
    "    print(tulos)"
   ]
  },
  {
   "cell_type": "code",
   "execution_count": 6,
   "id": "9105a416",
   "metadata": {},
   "outputs": [
    {
     "name": "stdout",
     "output_type": "stream",
     "text": [
      "[[12 -1 -1]\n",
      " [ 5 -1  2]\n",
      " [ 9  3 45]]\n",
      "------------------------\n",
      "[[23  8 31]\n",
      " [ 7  2  3]\n",
      " [ 9  6 55]]\n"
     ]
    }
   ],
   "source": [
    "import numpy as np\n",
    "\n",
    "def vertaa(luvut1, luvut2):\n",
    "    # Kirjoita vastauksesi tämän funktiorakenteen sisälle:\n",
    "    \n",
    "    # Muunna taulukot ennen operaatioita numpy-taulukoiksi \n",
    "    luvut1 = np.array(luvut1)\n",
    "    luvut2 = np.array(luvut2)\n",
    "    \n",
    "    luvut1[luvut1<luvut2]=-1\n",
    "    print(luvut1)\n",
    "    print(\"------------------------\")\n",
    "    print(luvut1+luvut2)\n",
    "    \n",
    "    # vinkki: np_luvut1[(vertailuehto)] = sijoitettava_arvo\n",
    "    \n",
    "    # Älä kirjoita missään tapauksessa muita print komentoja tämän rakenteen sisälle, koska silloin vastauksesi tulkitaan virheelliseksi.\n",
    "    # print(tulos)\n",
    "    \n",
    "luvut1 = [[12, 2, 4], [5, 1, 2], [9, 3, 45]]\n",
    "luvut2 = [[11, 9, 32], [2, 3, 1], [0, 3, 10]]\n",
    "\n",
    "vertaa(luvut1,luvut2)"
   ]
  },
  {
   "cell_type": "code",
   "execution_count": null,
   "id": "01947191",
   "metadata": {},
   "outputs": [],
   "source": []
  }
 ],
 "metadata": {
  "kernelspec": {
   "display_name": "Python 3 (ipykernel)",
   "language": "python",
   "name": "python3"
  },
  "language_info": {
   "codemirror_mode": {
    "name": "ipython",
    "version": 3
   },
   "file_extension": ".py",
   "mimetype": "text/x-python",
   "name": "python",
   "nbconvert_exporter": "python",
   "pygments_lexer": "ipython3",
   "version": "3.9.7"
  }
 },
 "nbformat": 4,
 "nbformat_minor": 5
}
