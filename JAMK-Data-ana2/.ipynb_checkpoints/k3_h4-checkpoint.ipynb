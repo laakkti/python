{
 "cells": [
  {
   "cell_type": "markdown",
   "id": "e656081c",
   "metadata": {},
   "source": [
    "Päästöjen aiheuttajia\n",
    "Tee funktio emissions(url), joka tekee järjestyksessä seuraavaa:\n",
    "\n",
    "lataa datan DataFrameen url:sta, jossa erotinmerkkinä on tabulaattori ('\\t'),\n",
    "tallentaa DataFrameen sarakkeet 'country' ja 'main activity sector name',\n",
    "poistaa DataFramesta rivit, jos sarakkeessa 'main activity sector name' esiintyy merkkijonot '20-99 All stationary installations' tai '21-99 All industrial installations (excl. combustion)'\n",
    "laskee kuinka monta kertaa sarakkeen 'main activity sector name' eri arvot esiintyvät DataFramessa,\n",
    "tulostusta varten sarake 'main activity sector name' on nimettävä uudelleen sarakkeeksi 'sector'\n",
    "tulostaa (viisi ensimmäistä riviä) järjestyksessä pienimmästä suurimpaan sarakkeen 'sector' arvojen lukumäärät.\n",
    "Tässä tehtävässä url=https://student.labranet.jamk.fi/~huoptu/datananal_s20/kerta3/harjoitukset/ETS_Database_v38A.csv\n",
    "\n",
    "Vihje:\n",
    "\n",
    "sarake = 'country\\tcountry_code\\tETS information\\tmain activity sector name\\tunit\\tvalue\\tyear' \n",
    "# CSV:stä luetun dataframen merkkijonot tulee splitata vielä toiseen kertaan lukemisen jälkeen split()-funktiolla. \n",
    "\n",
    "Testi:\n",
    "\n",
    "emissions(\"https://student.labranet.jamk.fi/~huoptu/datananal_s20/kerta3/harjoitukset/ETS_Database_v38A.csv\"\n",
    "\n",
    "Tulos:\n",
    "\n",
    "45 Capture of greenhouse gases under Directive 2009/31/EC       14\n",
    "\n",
    "46 Transport of greenhouse gases under Directive 2009/31/EC     22\n",
    "\n",
    "40 Production of glyoxal and glyoxylic acid                     37\n",
    "\n",
    "39 Production of adipic acid                                    43\n",
    "\n",
    "44 Production of soda ash and sodium bicarbonate               325\n",
    "Name: sector, dtype: int64\n",
    "\n",
    "\n",
    "45 Capture of greenhouse gases under Directive 2009/31/EC       14\n",
    "46 Transport of greenhouse gases under Directive 2009/31/EC     22\n",
    "40 Production of glyoxal and glyoxylic acid                     37\n",
    "39 Production of adipic acid                                    43\n",
    "44 Production of soda ash and sodium bicarbonate               325\n",
    "Name: sector, dtype: int64"
   ]
  },
  {
   "cell_type": "code",
   "execution_count": 14,
   "id": "94f7bd91",
   "metadata": {},
   "outputs": [
    {
     "name": "stdout",
     "output_type": "stream",
     "text": [
      "45 Capture of greenhouse gases under Directive 2009/31/EC       14\n",
      "46 Transport of greenhouse gases under Directive 2009/31/EC     22\n",
      "40 Production of glyoxal and glyoxylic acid                     37\n",
      "39 Production of adipic acid                                    43\n",
      "44 Production of soda ash and sodium bicarbonate               325\n",
      "Name: sector, dtype: int64\n"
     ]
    }
   ],
   "source": [
    "def emissions(url):\n",
    "    import pandas as pd\n",
    "    import numpy as np\n",
    "    \n",
    "    df = pd.read_csv(url, sep='\\t')\n",
    "    \n",
    "    sarake = 'country\\tcountry_code\\tETS information\\tmain activity sector name\\tunit\\tvalue\\tyear'\n",
    "    df=df[sarake].str.split('\\t', expand=True)\n",
    "\n",
    "    cols = sarake.split('\\t')\n",
    "    df.columns =cols\n",
    "    df=df[['country','main activity sector name']]\n",
    "    \n",
    "    tobedropped=['20-99 All stationary installations','21-99 All industrial installations (excl. combustion)']\n",
    "    for i in range(len(tobedropped)):\n",
    "        df.drop(df[df['main activity sector name']==tobedropped[i]].index, inplace = True)        \n",
    "        \n",
    "    df.rename(columns = {'main activity sector name':'sector'}, inplace = True)\n",
    "    \n",
    "    tulos=df['sector'].value_counts(sort=True,ascending=True)[:5]\n",
    "    \n",
    "    print(tulos)\n",
    "    \n",
    "            \n",
    "url=\"https://student.labranet.jamk.fi/~huoptu/datananal_s20/kerta3/harjoitukset/ETS_Database_v38A.csv\"\n",
    "emissions(url)         "
   ]
  }
 ],
 "metadata": {
  "kernelspec": {
   "display_name": "Python 3 (ipykernel)",
   "language": "python",
   "name": "python3"
  },
  "language_info": {
   "codemirror_mode": {
    "name": "ipython",
    "version": 3
   },
   "file_extension": ".py",
   "mimetype": "text/x-python",
   "name": "python",
   "nbconvert_exporter": "python",
   "pygments_lexer": "ipython3",
   "version": "3.9.7"
  }
 },
 "nbformat": 4,
 "nbformat_minor": 5
}
