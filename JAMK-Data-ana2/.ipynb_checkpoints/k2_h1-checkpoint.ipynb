{
 "cells": [
  {
   "cell_type": "markdown",
   "id": "8486c2d0",
   "metadata": {},
   "source": [
    "\n",
    "Kunta-datan käsittely\n",
    "Tee funktio ks_kunnat(url), joka tekee seuraavaa:\n",
    "\n",
    "lataa CSV-datan DataFrameen url:sta (sarakkeiden erotinmerkki on puolipiste ja desimaalimerkki on pilkku)\n",
    "kopioi uuteen DataFrameen kaikki sarakkeet ja rivit, joissa sarakkeessa ‘maakunta’ esiintyy merkkijono ‘Keski-Suomi’ ja sarakkeen ‘kokonaispinta-ala’ arvo on suurempi kuin 1000\n",
    "suodata tiedot DataFramesta näyttämällä vain seuraavat sarakkeet: \"kunta\", \"maapinta-ala\", \"kokonaispinta-ala\" ja \"Väkiluku\".\n",
    "Lajittele data siten, että kunta, jonka \"maapinta-ala\" on suurin tulee ensimmäiseksi (lajittelujärjestys laskeva)\n",
    "tulosta lopputulokseen viisi ensimmäistä riviä.\n",
    "Tässä tehtävässä url=https://student.labranet.jamk.fi/~pelju/data_av/sources/kunnat.csv\n",
    "\n",
    "Huom! Rivi-indeksi on esitetty ensimmäisessä sarakkeessa.\n",
    "\n",
    "\n",
    "\n",
    "Esimerkiksi:\n",
    "ks_kunnat(\"https://student.labranet.jamk.fi/~pelju/data_av/sources/kunnat.csv\")\n",
    "\n",
    "Tulos:\n",
    "          kunta  maapinta-ala  kokonaispinta-ala  Väkiluku\n",
    "65        Jämsä       1571.36            1823.90     20607\n",
    "92       Keuruu       1257.97            1430.57      9762\n",
    "234  Saarijärvi       1251.72            1422.72      9415\n",
    "298  Viitasaari       1248.55            1589.12      6264\n",
    "63    Jyväskylä       1170.97            1466.35    141305\n"
   ]
  },
  {
   "cell_type": "code",
   "execution_count": 11,
   "id": "3ae4b745",
   "metadata": {},
   "outputs": [
    {
     "name": "stdout",
     "output_type": "stream",
     "text": [
      "          kunta  maapinta-ala  kokonaispinta-ala  Väkiluku\n",
      "65        Jämsä       1571.36            1823.90     20607\n",
      "92       Keuruu       1257.97            1430.57      9762\n",
      "234  Saarijärvi       1251.72            1422.72      9415\n",
      "298  Viitasaari       1248.55            1589.12      6264\n",
      "63    Jyväskylä       1170.97            1466.35    141305\n"
     ]
    }
   ],
   "source": [
    "def ks_kunnat(url):\n",
    "    # Kirjoita vastauksesi tähän alle:\n",
    "    import pandas as pd        \n",
    "    df = pd.read_csv(url,delimiter=\";\",decimal=\",\")    \n",
    "    df2=df.loc[(df['maakunta']=='Keski-Suomi') & (df['kokonaispinta-ala']>1000),[\"kunta\",\"maapinta-ala\",\"kokonaispinta-ala\",\"Väkiluku\"]]\n",
    "    tulos=df2.sort_values(by='maapinta-ala',ascending=False)[:5]    \n",
    "    print(tulos)\n",
    "\n",
    "url=\"https://student.labranet.jamk.fi/~pelju/data_av/sources/kunnat.csv\" \n",
    "ks_kunnat(url)    "
   ]
  }
 ],
 "metadata": {
  "kernelspec": {
   "display_name": "Python 3 (ipykernel)",
   "language": "python",
   "name": "python3"
  },
  "language_info": {
   "codemirror_mode": {
    "name": "ipython",
    "version": 3
   },
   "file_extension": ".py",
   "mimetype": "text/x-python",
   "name": "python",
   "nbconvert_exporter": "python",
   "pygments_lexer": "ipython3",
   "version": "3.9.7"
  }
 },
 "nbformat": 4,
 "nbformat_minor": 5
}
