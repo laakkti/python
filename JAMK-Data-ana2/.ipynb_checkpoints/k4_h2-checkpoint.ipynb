{
 "cells": [
  {
   "cell_type": "markdown",
   "id": "e656081c",
   "metadata": {},
   "source": [
    "Autodatan yhdistäminen ja ryhmittely\n",
    "Tee funktio autot(url_a1, url_a2, url_b1, url_b2), joka tekee järjestyksessä seuraavaa:\n",
    "\n",
    "lataa datat DataFrameihin osoitteista (url_a1, url_a2, url_b1, url_b2), joissa erotinmerkkinä on puolipiste (';'),\n",
    "yhdistää uuteen DataFrameen 'dfa' autoihin liittyvät datat url_a1:sta ja url_a2:sta (tutki tarvittaessa mitä dataa urleista on saatavilla),\n",
    "yhdistää uuteen DataFrameen 'dfb' autoihin liittyvät datat url_b1:sta ja url_b2:sta (tutki tarvittaessa mitä dataa urleista on saatavilla),\n",
    "yhdistää DataFramet 'dfa' ja 'dfb' yhdeksi DataFrameksi 'df' sarakkeen 'ID' perusteella,\n",
    "jos DataFramessa 'df' on sarakkeessa auton moottorin teho 'ep (KW)' nan arvoja, korvataan ne lukuarvolla nolla,\n",
    "tuottaa DataFramen 'tulos', johon on laskettu autojen keskimääräiset tehot sarakkeesta 'ep (KW)' ryhmiteltynä auton valmistajan mukaan 'Mh' (tutki tarvittaessa groupby dokumentaatiosta kuinka groupby palauttaa indeksin),\n",
    "järjestää DataFramen 'tulos' rivit keskimääräisen tehon mukaan 'ep (KW)' suurimmasta pienimpään.\n",
    "tulostaa edellä jäjestetystä DataFramesta viisi ensimmäistä riviä.\n",
    "Tässä tehtävässä:\n",
    "\n",
    "url_a1=https://student.labranet.jamk.fi/~huoptu/datananal_s20/kerta4/harjoitukset/autotA1.csv\n",
    "url_a2=https://student.labranet.jamk.fi/~huoptu/datananal_s20/kerta4/harjoitukset/autotA2.csv\n",
    "url_b1=https://student.labranet.jamk.fi/~huoptu/datananal_s20/kerta4/harjoitukset/autotB1.csv\n",
    "url_b2=https://student.labranet.jamk.fi/~huoptu/datananal_s20/kerta4/harjoitukset/autotB2.csv\n",
    "\n",
    "Testi:\n",
    "\n",
    "autot(\"https://student.labranet.jamk.fi/~huoptu/datananal_s20/kerta4/harjoitukset/autotA1.csv\", \"https://student.labranet.jamk.fi/~huoptu/datananal_s20/kerta4/harjoitukset/autotA2.csv\", \"https://student.labranet.jamk.fi/~huoptu/datananal_s20/kerta4/harjoitukset/autotB1.csv\", \"https://student.labranet.jamk.fi/~huoptu/datananal_s20/kerta4/harjoitukset/autotB2.csv\")\n",
    "\n",
    "Tulos:\n",
    "\n",
    "                Mh     ep (KW)\n",
    "6            TESLA  386.000000\n",
    "0           AA-IVA  267.750000\n",
    "2  FORD WERKE GMBH   89.741007\n",
    "5            SKODA   81.372515\n",
    "3              KIA   77.000000"
   ]
  },
  {
   "cell_type": "code",
   "execution_count": 11,
   "id": "0fdd9183",
   "metadata": {
    "scrolled": false
   },
   "outputs": [
    {
     "name": "stdout",
     "output_type": "stream",
     "text": [
      "                Mh     ep (KW)\n",
      "6            TESLA  386.000000\n",
      "0           AA-IVA  267.750000\n",
      "2  FORD WERKE GMBH   89.741007\n",
      "5            SKODA   81.372515\n",
      "3              KIA   77.000000\n"
     ]
    }
   ],
   "source": [
    "def autot(url_a1, url_a2, url_b1, url_b2):\n",
    "    import pandas as pd\n",
    "    import numpy as np    \n",
    "    \n",
    "    df1 = pd.read_csv(url_a1,delimiter=\";\",decimal=\",\")    \n",
    "    df2 = pd.read_csv(url_a2,delimiter=\";\",decimal=\",\")        \n",
    "    dfa=df1.append(df2)\n",
    "    \n",
    "    df3 = pd.read_csv(url_b1,delimiter=\";\",decimal=\",\")\n",
    "    df4 = pd.read_csv(url_b2,delimiter=\";\",decimal=\",\")\n",
    "    dfb=df3.append(df4)\n",
    "    \n",
    "    tulos = pd.merge(dfa, dfb, on = 'ID', how = 'inner')    \n",
    "    tulos['ep (KW)']=tulos['ep (KW)'].fillna(0)\n",
    "    \n",
    "    groups=tulos.groupby('Mh',as_index=False)\n",
    "    \n",
    "    tulos = pd.DataFrame(groups['ep (KW)'].mean())\n",
    "    tulos = tulos.sort_values(by='ep (KW)',ascending=False)[:5]\n",
    "    \n",
    "    print(tulos)\n",
    "    \n",
    "url_a1=\"https://student.labranet.jamk.fi/~huoptu/datananal_s20/kerta4/harjoitukset/autotA1.csv\"\n",
    "url_a2=\"https://student.labranet.jamk.fi/~huoptu/datananal_s20/kerta4/harjoitukset/autotA2.csv\"\n",
    "url_b1=\"https://student.labranet.jamk.fi/~huoptu/datananal_s20/kerta4/harjoitukset/autotB1.csv\"\n",
    "url_b2=\"https://student.labranet.jamk.fi/~huoptu/datananal_s20/kerta4/harjoitukset/autotB2.csv\"\n",
    "autot(url_a1, url_a2, url_b1, url_b2)    "
   ]
  }
 ],
 "metadata": {
  "kernelspec": {
   "display_name": "Python 3 (ipykernel)",
   "language": "python",
   "name": "python3"
  },
  "language_info": {
   "codemirror_mode": {
    "name": "ipython",
    "version": 3
   },
   "file_extension": ".py",
   "mimetype": "text/x-python",
   "name": "python",
   "nbconvert_exporter": "python",
   "pygments_lexer": "ipython3",
   "version": "3.9.7"
  }
 },
 "nbformat": 4,
 "nbformat_minor": 5
}
