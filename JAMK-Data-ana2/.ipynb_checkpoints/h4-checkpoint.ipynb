{
 "cells": [
  {
   "cell_type": "markdown",
   "id": "8486c2d0",
   "metadata": {},
   "source": [
    "Pandas DataFrame - Veikkausliiga\n",
    "Alla on sisäkkäisistä dict-sanakirjoista koostuva tietorakenne, jossa on jalkapallon veikkausliigajoukkueiden sarjasijoitukset 1990-2019.\n",
    "\n",
    "liiga = {1990: {'HJK': 1,'Kuusysi': 2,'MP': 3,'Reipas': 4,'RoPS': 5,'KuPS': 6,'TPS': 7,'Haka': 8,'Ilves': 9,'OTP': 10,'KPV': 11,'Kumu': 12}, 1991: {'Kuusysi': 1,'MP': 2,'Haka': 3,'Jaro': 4,'HJK': 5,'Ilves': 6,'RoPS': 7,'Jazz': 8,'TPS': 9,'KuPS': 10,'OTP': 11,'Reipas': 12}, 1992: {'HJK': 1,'Kuusysi': 2,'Jazz': 3,'MYPA': 4,'Jaro': 5,'Haka': 6,'RoPS': 7,'Ilves': 8,'TPS': 9,'MP': 10,'FC/AC Oulu': 11,'KuPS': 12}, 1993: {'Jazz': 1,'MYPA': 2,'HJK': 3,'Kuusysi': 4,'FinnPa': 5,'TPV': 6,'RoPS': 7,'TPS': 8,'MP': 9,'Haka': 10,'Jaro': 11,'Ilves': 12}, 1994: {'TPV': 1,'MYPA': 2,'HJK': 3,'Jazz': 4,'RoPS': 5,'Haka': 6,'Jaro': 7,'TPS': 8,'Kuusysi': 9,'FinnPa': 10,'MP': 11,'Ilves': 12,'FC/AC Oulu': 13,'KuPS': 14}, 1995: {'Haka': 1,'MYPA': 2,'HJK': 3,'Jazz': 4,'Jaro': 5,'TPS': 6,'Ilves': 7,'FinnPa': 8,'RoPS': 9,'VPS': 10,'MP': 11,'TPV': 12,'Kuusysi': 13,'Ponnistus': 14}, 1996: {'Jazz': 1,'MYPA': 2,'TPS': 3,'FinnPa': 4,'Jaro': 5,'Inter': 6,'VPS': 7,'RoPS': 8,'HJK': 9,'Ilves': 10,'Haka': 11,'MP': 12}, 1997: {'HJK': 1,'VPS': 2,'FinnPa': 3,'TPS': 4,'MYPA': 5,'RoPS': 6,'Jazz': 7,'Jaro': 8,'TP-Seinäjoki': 9,'Inter': 10}, 1998: {'Haka': 1,'VPS': 2,'PK-35': 3,'HJK': 4,'Jazz': 5,'TPS': 6,'MYPA': 7,'RoPS': 8,'FinnPa': 9,'Jaro': 10}, 1999: {'Haka': 1,'HJK': 2,'MYPA': 3,'Jokerit': 4,'Inter': 5,'Jazz': 6,'KooTeePee': 7,'RoPS': 8,'TPS': 9,'Lahti': 10,'VPS': 11,'TPV': 12}, 2000: {'Haka': 1,'Jokerit': 2,'MYPA': 3,'HJK': 4,'Jazz': 5,'TamU': 6,'Inter': 7,'Lahti': 8,'RoPS': 9,'VPS': 10,'TPS': 11,'KooTeePee': 12}, 2001: {'TamU': 1,'HJK': 2,'MYPA': 3,'Haka': 4,'Inter': 5,'VPS': 6,'Atlantis': 7,'KuPS': 8,'Lahti': 9,'Jazz': 10,'Jokerit': 11,'RoPS': 12}, 2002: {'HJK': 1,'MYPA': 2,'Haka': 3,'Allianssi': 4,'TamU': 5,'Inter': 6,'Jaro': 7,'Lahti': 8,'KuPS': 9,'Hämeenlinna': 10,'VPS': 11,'Jazz': 12}, 2003: {'HJK': 1,'Haka': 2,'TamU': 3,'MYPA': 4,'Lahti': 5,'Allianssi': 6,'Inter': 7,'Jaro': 8,'TPS': 9,'Jokerit': 10,'Hämeenlinna': 11,'Jazz': 12,'KooTeePee': 13,'KuPS': 14}, 2004: {'Haka': 1,'Allianssi': 2,'TamU': 3,'Inter': 4,'TPS': 5,'HJK': 6,'Lahti': 7,'MYPA': 8,'KooTeePee': 9,'TP-47': 10,'Jaro': 11,'RoPS': 12,'Jazz': 13,'Hämeenlinna': 14}, 2005: {'MYPA': 1,'HJK': 2,'TamU': 3,'Haka': 4,'Inter': 5,'Lahti': 6,'Allianssi': 7,'KooTeePee': 8,'TPS': 9,'KuPS': 10,'Jaro': 11,'IFK Mariehamn': 12,'RoPS': 13,'TP-47': 14}, 2006: {'TamU': 1,'HJK': 2,'Haka': 3,'Honka': 4,'IFK Mariehamn': 5,'MYPA': 6,'TPS': 7,'Lahti': 8,'VPS': 9,'Inter': 10,'KooTeePee': 11,'Jaro': 12,'KuPS': 13}, 2007: {'TamU': 1,'Haka': 2,'TPS': 3,'Honka': 4,'MYPA': 5,'IFK Mariehamn': 6,'HJK': 7,'Lahti': 8,'Inter': 9,'VPS': 10,'Jaro': 11,'KooTeePee': 12,'Viikingit': 13,'FC/AC Oulu': 14}, 2008: {'Inter': 1,'Honka': 2,'Lahti': 3,'HJK': 4,'MYPA': 5,'TPS': 6,'TamU': 7,'Haka': 8,'Jaro': 9,'RoPS': 10,'VPS': 11,'IFK Mariehamn': 12,'KuPS': 13,'KooTeePee': 14}, 2009: {'HJK': 1,'Honka': 2,'TPS': 3,'IFK Mariehamn': 4,'Inter': 5,'Haka': 6,'TamU': 7,'VPS': 8,'MYPA': 9,'Jaro': 10,'Lahti': 11,'KuPS': 12,'JJK': 13,'RoPS': 14}, 2010: {'HJK': 1,'KuPS': 2,'TPS': 3,'Honka': 4,'Jaro': 5,'Inter': 6,'TamU': 7,'Haka': 8,'MYPA': 9,'VPS': 10,'FC/AC Oulu': 11,'IFK Mariehamn': 12,'JJK': 13,'Lahti': 14}, 2011: {'HJK': 1,'Inter': 2,'JJK': 3,'Honka': 4,'TPS': 5,'KuPS': 6,'IFK Mariehamn': 7,'MYPA': 8,'VPS': 9,'Haka': 10,'Jaro': 11,'RoPS': 12}, 2012: {'HJK': 1,'Inter': 2,'TPS': 3,'IFK Mariehamn': 4,'Lahti': 5,'MYPA': 6,'Honka': 7,'VPS': 8,'JJK': 9,'KuPS': 10,'Jaro': 11,'Haka': 12}, 2013: {'HJK': 1,'Honka': 2,'VPS': 3,'IFK Mariehamn': 4,'Lahti': 5,'MYPA': 6,'KuPS': 7,'TPS': 8,'Inter': 9,'Jaro': 10,'RoPS': 11,'JJK': 12}, 2014: {'HJK': 1,'SJK': 2,'Lahti': 3,'VPS': 4,'IFK Mariehamn': 5,'Jaro': 6,'KuPS': 7,'MYPA': 8,'Inter': 9,'RoPS': 10,'Honka': 11,'TPS': 12}, 2015: {'SJK': 1,'RoPS': 2,'HJK': 3,'Inter': 4,'Lahti': 5,'IFK Mariehamn': 6,'HIFK': 7,'Ilves': 8,'KuPS': 9,'VPS': 10,'KooTeePee': 11,'Jaro': 12}, 2016: {'IFK Mariehamn': 1,'HJK': 2,'SJK': 3,'VPS': 4,'Ilves': 5,'RoPS': 6,'KuPS': 7,'Lahti': 8,'PS Kemi': 9,'HIFK': 10,'Inter': 11,'PK-35': 12}, 2017: {'HJK': 1,'KuPS': 2,'Ilves': 3,'Lahti': 4,'IFK Mariehamn': 5,'SJK': 6,'RoPS': 7,'VPS': 8,'Inter': 9,'PS Kemi': 10,'HIFK': 11,'JJK': 12},2018: {'HJK': 1,'RoPS': 2,'KuPS': 3,'Honka': 4,'Ilves': 5,'VPS': 6,'Inter': 7,'Lahti': 8,'SJK': 9,'IFK Mariehamn': 10,'TPS': 11,'PS Kemi': 12}, 2019: {'KuPS': 1,'Inter': 2,'Honka': 3,'Ilves': 4,'HJK': 5,'IFK Mariehamn': 6,'HIFK': 7,'Lahti': 8,'SJK': 9,'RoPS': 10,'KPV': 11,'VPS': 12}}\n",
    "\n",
    "Tee funktio futis_tilastot(veikkausliiga, alkuvuosi, loppuvuosi), joka tekee seuraavaa:\n",
    "\n",
    "Parametri veikkausliiga sisältää veikkausliigadatan dict-sanakirjana. \n",
    "Parametrit alkuvuosi - loppuvuosi sisältävät aikavälin alku- ja loppuajan vuosilukuna.\n",
    "Tee sanakirjasta DataFrame, jossa vuodet ovat riviotsikoita ja joukkueet sarakeotsikoita.\n",
    "\n",
    "Suodata ja tulosta sitten DataFramesta seuraava näkymä (älä valitse rivejä \"käsin\"):\n",
    "\n",
    "Jos data sisältää puuttuvia arvoja NaN, niin sijoita näiden paikalle arvo nolla.\n",
    "rivit, missä KuPS:n sijoitus on ollut kuuden (6) parhaan joukossa (NaN arvoja ei lasketa).\n",
    "Valitse rivit vuosilta 1990-2019 ja suodata vain KuPS:n, HJK:n ja RoPS:n sarakkeet.\n",
    "Jos rivin arvo on nolla eli joukkueella ei ollut liigasijoitusta, tulosta vastaukseen 'ei liiga'.\n",
    "Tulosta viisi ensimmäistä riviä suodattamastasi taulukosta.\n",
    "\n",
    "Esimerkiksi:\n",
    "futis_tilastot({1990: {'HJK': 1,'Kuusysi': 2,'MP': 3,'Reipas': 4,'RoPS': 5,'KuPS': 6,'TPS': 7,'Haka': 8,'Ilves': 9,'OTP': 10,'KPV': 11,'Kumu': 12}, 1991: {'Kuusysi': 1,'MP': 2,'Haka': 3,'Jaro': 4,'HJK': 5,'Ilves': 6,'RoPS': 7,'Jazz': 8,'TPS': 9,'KuPS': 10,'OTP': 11,'Reipas': 12}, 1992: {'HJK': 1,'Kuusysi': 2,'Jazz': 3,'MYPA': 4,'Jaro': 5,'Haka': 6,'RoPS': 7,'Ilves': 8,'TPS': 9,'MP': 10,'FC/AC Oulu': 11,'KuPS': 12}, 1993: {'Jazz': 1,'MYPA': 2,'HJK': 3,'Kuusysi': 4,'FinnPa': 5,'TPV': 6,'RoPS': 7,'TPS': 8,'MP': 9,'Haka': 10,'Jaro': 11,'Ilves': 12}, 1994: {'TPV': 1,'MYPA': 2,'HJK': 3,'Jazz': 4,'RoPS': 5,'Haka': 6,'Jaro': 7,'TPS': 8,'Kuusysi': 9,'FinnPa': 10,'MP': 11,'Ilves': 12,'FC/AC Oulu': 13,'KuPS': 14}, 1995: {'Haka': 1,'MYPA': 2,'HJK': 3,'Jazz': 4,'Jaro': 5,'TPS': 6,'Ilves': 7,'FinnPa': 8,'RoPS': 9,'VPS': 10,'MP': 11,'TPV': 12,'Kuusysi': 13,'Ponnistus': 14}, 1996: {'Jazz': 1,'MYPA': 2,'TPS': 3,'FinnPa': 4,'Jaro': 5,'Inter': 6,'VPS': 7,'RoPS': 8,'HJK': 9,'Ilves': 10,'Haka': 11,'MP': 12}, 1997: {'HJK': 1,'VPS': 2,'FinnPa': 3,'TPS': 4,'MYPA': 5,'RoPS': 6,'Jazz': 7,'Jaro': 8,'TP-Seinäjoki': 9,'Inter': 10}, 1998: {'Haka': 1,'VPS': 2,'PK-35': 3,'HJK': 4,'Jazz': 5,'TPS': 6,'MYPA': 7,'RoPS': 8,'FinnPa': 9,'Jaro': 10}, 1999: {'Haka': 1,'HJK': 2,'MYPA': 3,'Jokerit': 4,'Inter': 5,'Jazz': 6,'KooTeePee': 7,'RoPS': 8,'TPS': 9,'Lahti': 10,'VPS': 11,'TPV': 12}, 2000: {'Haka': 1,'Jokerit': 2,'MYPA': 3,'HJK': 4,'Jazz': 5,'TamU': 6,'Inter': 7,'Lahti': 8,'RoPS': 9,'VPS': 10,'TPS': 11,'KooTeePee': 12}, 2001: {'TamU': 1,'HJK': 2,'MYPA': 3,'Haka': 4,'Inter': 5,'VPS': 6,'Atlantis': 7,'KuPS': 8,'Lahti': 9,'Jazz': 10,'Jokerit': 11,'RoPS': 12}, 2002: {'HJK': 1,'MYPA': 2,'Haka': 3,'Allianssi': 4,'TamU': 5,'Inter': 6,'Jaro': 7,'Lahti': 8,'KuPS': 9,'Hämeenlinna': 10,'VPS': 11,'Jazz': 12}, 2003: {'HJK': 1,'Haka': 2,'TamU': 3,'MYPA': 4,'Lahti': 5,'Allianssi': 6,'Inter': 7,'Jaro': 8,'TPS': 9,'Jokerit': 10,'Hämeenlinna': 11,'Jazz': 12,'KooTeePee': 13,'KuPS': 14}, 2004: {'Haka': 1,'Allianssi': 2,'TamU': 3,'Inter': 4,'TPS': 5,'HJK': 6,'Lahti': 7,'MYPA': 8,'KooTeePee': 9,'TP-47': 10,'Jaro': 11,'RoPS': 12,'Jazz': 13,'Hämeenlinna': 14}, 2005: {'MYPA': 1,'HJK': 2,'TamU': 3,'Haka': 4,'Inter': 5,'Lahti': 6,'Allianssi': 7,'KooTeePee': 8,'TPS': 9,'KuPS': 10,'Jaro': 11,'IFK Mariehamn': 12,'RoPS': 13,'TP-47': 14}, 2006: {'TamU': 1,'HJK': 2,'Haka': 3,'Honka': 4,'IFK Mariehamn': 5,'MYPA': 6,'TPS': 7,'Lahti': 8,'VPS': 9,'Inter': 10,'KooTeePee': 11,'Jaro': 12,'KuPS': 13}, 2007: {'TamU': 1,'Haka': 2,'TPS': 3,'Honka': 4,'MYPA': 5,'IFK Mariehamn': 6,'HJK': 7,'Lahti': 8,'Inter': 9,'VPS': 10,'Jaro': 11,'KooTeePee': 12,'Viikingit': 13,'FC/AC Oulu': 14}, 2008: {'Inter': 1,'Honka': 2,'Lahti': 3,'HJK': 4,'MYPA': 5,'TPS': 6,'TamU': 7,'Haka': 8,'Jaro': 9,'RoPS': 10,'VPS': 11,'IFK Mariehamn': 12,'KuPS': 13,'KooTeePee': 14}, 2009: {'HJK': 1,'Honka': 2,'TPS': 3,'IFK Mariehamn': 4,'Inter': 5,'Haka': 6,'TamU': 7,'VPS': 8,'MYPA': 9,'Jaro': 10,'Lahti': 11,'KuPS': 12,'JJK': 13,'RoPS': 14}, 2010: {'HJK': 1,'KuPS': 2,'TPS': 3,'Honka': 4,'Jaro': 5,'Inter': 6,'TamU': 7,'Haka': 8,'MYPA': 9,'VPS': 10,'FC/AC Oulu': 11,'IFK Mariehamn': 12,'JJK': 13,'Lahti': 14}, 2011: {'HJK': 1,'Inter': 2,'JJK': 3,'Honka': 4,'TPS': 5,'KuPS': 6,'IFK Mariehamn': 7,'MYPA': 8,'VPS': 9,'Haka': 10,'Jaro': 11,'RoPS': 12}, 2012: {'HJK': 1,'Inter': 2,'TPS': 3,'IFK Mariehamn': 4,'Lahti': 5,'MYPA': 6,'Honka': 7,'VPS': 8,'JJK': 9,'KuPS': 10,'Jaro': 11,'Haka': 12}, 2013: {'HJK': 1,'Honka': 2,'VPS': 3,'IFK Mariehamn': 4,'Lahti': 5,'MYPA': 6,'KuPS': 7,'TPS': 8,'Inter': 9,'Jaro': 10,'RoPS': 11,'JJK': 12}, 2014: {'HJK': 1,'SJK': 2,'Lahti': 3,'VPS': 4,'IFK Mariehamn': 5,'Jaro': 6,'KuPS': 7,'MYPA': 8,'Inter': 9,'RoPS': 10,'Honka': 11,'TPS': 12}, 2015: {'SJK': 1,'RoPS': 2,'HJK': 3,'Inter': 4,'Lahti': 5,'IFK Mariehamn': 6,'HIFK': 7,'Ilves': 8,'KuPS': 9,'VPS': 10,'KooTeePee': 11,'Jaro': 12}, 2016: {'IFK Mariehamn': 1,'HJK': 2,'SJK': 3,'VPS': 4,'Ilves': 5,'RoPS': 6,'KuPS': 7,'Lahti': 8,'PS Kemi': 9,'HIFK': 10,'Inter': 11,'PK-35': 12}, 2017: {'HJK': 1,'KuPS': 2,'Ilves': 3,'Lahti': 4,'IFK Mariehamn': 5,'SJK': 6,'RoPS': 7,'VPS': 8,'Inter': 9,'PS Kemi': 10,'HIFK': 11,'JJK': 12},2018: {'HJK': 1,'RoPS': 2,'KuPS': 3,'Honka': 4,'Ilves': 5,'VPS': 6,'Inter': 7,'Lahti': 8,'SJK': 9,'IFK Mariehamn': 10,'TPS': 11,'PS Kemi': 12}, 2019: {'KuPS': 1,'Inter': 2,'Honka': 3,'Ilves': 4,'HJK': 5,'IFK Mariehamn': 6,'HIFK': 7,'Lahti': 8,'SJK': 9,'RoPS': 10,'KPV': 11,'VPS': 12}},1990,2019)\n",
    "\n",
    "Tulos:\n",
    "     KuPS  HJK      RoPS\n",
    "1990     6    1         5\n",
    "2010     2    1  ei liiga\n",
    "2011     6    1        12\n",
    "2017     2    1         7\n",
    "2018     3    1         2"
   ]
  },
  {
   "cell_type": "code",
   "execution_count": 26,
   "id": "3ae4b745",
   "metadata": {},
   "outputs": [
    {
     "name": "stdout",
     "output_type": "stream",
     "text": [
      "      KuPS  HJK      RoPS\n",
      "1990     6    1         5\n",
      "2010     2    1  ei liiga\n",
      "2011     6    1        12\n",
      "2017     2    1         7\n",
      "2018     3    1         2\n",
      "\n",
      "---------\n",
      "\n"
     ]
    }
   ],
   "source": [
    "import pandas as pd\n",
    "\n",
    "def futis_tilastot(veikkausliiga, alkuvuosi, loppuvuosi):\n",
    "# liigadata (dict), tarkasteluvälin alkuvuosi (int), tarkasteluvälin loppuvuosi (int)\n",
    "\n",
    "    # Kirjoita vastauksesi tämän funktiorakenteen sisälle:\n",
    "    df = pd.DataFrame(veikkausliiga)\n",
    "    df=df.T\n",
    "    df = df.fillna(0)\n",
    "    \n",
    "    \n",
    "    #df = df.reindex(columns = ['KuPS', 'HJK', 'RoPS'])\n",
    "    \n",
    "    df=df.loc[(df['KuPS']<=6) & (df['KuPS']>0),['KuPS', 'HJK', 'RoPS']].astype(int)\n",
    "    df=df.replace(0, \"ei liiga\")\n",
    "    print(df[:5])\n",
    "    \n",
    "    #print(df.loc[df['KuPS']<=6])\n",
    "\n",
    "    print('\\n---------\\n')\n",
    "\n",
    "    \n",
    "    \n",
    "    #print(df)\n",
    "    # Älä kirjoita muita print komentoja tämän rakenteen sisälle, koska silloin vastauksesi tulkitaan virheelliseksi.\n",
    "    \n",
    "    #tulos = tulos.head()\n",
    "    #print(tulos)\n",
    "\n",
    "    \n",
    "liiga = {1990: {'HJK': 1,'Kuusysi': 2,'MP': 3,'Reipas': 4,'RoPS': 5,'KuPS': 6,'TPS': 7,'Haka': 8,'Ilves': 9,'OTP': 10,'KPV': 11,'Kumu': 12}, 1991: {'Kuusysi': 1,'MP': 2,'Haka': 3,'Jaro': 4,'HJK': 5,'Ilves': 6,'RoPS': 7,'Jazz': 8,'TPS': 9,'KuPS': 10,'OTP': 11,'Reipas': 12}, 1992: {'HJK': 1,'Kuusysi': 2,'Jazz': 3,'MYPA': 4,'Jaro': 5,'Haka': 6,'RoPS': 7,'Ilves': 8,'TPS': 9,'MP': 10,'FC/AC Oulu': 11,'KuPS': 12}, 1993: {'Jazz': 1,'MYPA': 2,'HJK': 3,'Kuusysi': 4,'FinnPa': 5,'TPV': 6,'RoPS': 7,'TPS': 8,'MP': 9,'Haka': 10,'Jaro': 11,'Ilves': 12}, 1994: {'TPV': 1,'MYPA': 2,'HJK': 3,'Jazz': 4,'RoPS': 5,'Haka': 6,'Jaro': 7,'TPS': 8,'Kuusysi': 9,'FinnPa': 10,'MP': 11,'Ilves': 12,'FC/AC Oulu': 13,'KuPS': 14}, 1995: {'Haka': 1,'MYPA': 2,'HJK': 3,'Jazz': 4,'Jaro': 5,'TPS': 6,'Ilves': 7,'FinnPa': 8,'RoPS': 9,'VPS': 10,'MP': 11,'TPV': 12,'Kuusysi': 13,'Ponnistus': 14}, 1996: {'Jazz': 1,'MYPA': 2,'TPS': 3,'FinnPa': 4,'Jaro': 5,'Inter': 6,'VPS': 7,'RoPS': 8,'HJK': 9,'Ilves': 10,'Haka': 11,'MP': 12}, 1997: {'HJK': 1,'VPS': 2,'FinnPa': 3,'TPS': 4,'MYPA': 5,'RoPS': 6,'Jazz': 7,'Jaro': 8,'TP-Seinäjoki': 9,'Inter': 10}, 1998: {'Haka': 1,'VPS': 2,'PK-35': 3,'HJK': 4,'Jazz': 5,'TPS': 6,'MYPA': 7,'RoPS': 8,'FinnPa': 9,'Jaro': 10}, 1999: {'Haka': 1,'HJK': 2,'MYPA': 3,'Jokerit': 4,'Inter': 5,'Jazz': 6,'KooTeePee': 7,'RoPS': 8,'TPS': 9,'Lahti': 10,'VPS': 11,'TPV': 12}, 2000: {'Haka': 1,'Jokerit': 2,'MYPA': 3,'HJK': 4,'Jazz': 5,'TamU': 6,'Inter': 7,'Lahti': 8,'RoPS': 9,'VPS': 10,'TPS': 11,'KooTeePee': 12}, 2001: {'TamU': 1,'HJK': 2,'MYPA': 3,'Haka': 4,'Inter': 5,'VPS': 6,'Atlantis': 7,'KuPS': 8,'Lahti': 9,'Jazz': 10,'Jokerit': 11,'RoPS': 12}, 2002: {'HJK': 1,'MYPA': 2,'Haka': 3,'Allianssi': 4,'TamU': 5,'Inter': 6,'Jaro': 7,'Lahti': 8,'KuPS': 9,'Hämeenlinna': 10,'VPS': 11,'Jazz': 12}, 2003: {'HJK': 1,'Haka': 2,'TamU': 3,'MYPA': 4,'Lahti': 5,'Allianssi': 6,'Inter': 7,'Jaro': 8,'TPS': 9,'Jokerit': 10,'Hämeenlinna': 11,'Jazz': 12,'KooTeePee': 13,'KuPS': 14}, 2004: {'Haka': 1,'Allianssi': 2,'TamU': 3,'Inter': 4,'TPS': 5,'HJK': 6,'Lahti': 7,'MYPA': 8,'KooTeePee': 9,'TP-47': 10,'Jaro': 11,'RoPS': 12,'Jazz': 13,'Hämeenlinna': 14}, 2005: {'MYPA': 1,'HJK': 2,'TamU': 3,'Haka': 4,'Inter': 5,'Lahti': 6,'Allianssi': 7,'KooTeePee': 8,'TPS': 9,'KuPS': 10,'Jaro': 11,'IFK Mariehamn': 12,'RoPS': 13,'TP-47': 14}, 2006: {'TamU': 1,'HJK': 2,'Haka': 3,'Honka': 4,'IFK Mariehamn': 5,'MYPA': 6,'TPS': 7,'Lahti': 8,'VPS': 9,'Inter': 10,'KooTeePee': 11,'Jaro': 12,'KuPS': 13}, 2007: {'TamU': 1,'Haka': 2,'TPS': 3,'Honka': 4,'MYPA': 5,'IFK Mariehamn': 6,'HJK': 7,'Lahti': 8,'Inter': 9,'VPS': 10,'Jaro': 11,'KooTeePee': 12,'Viikingit': 13,'FC/AC Oulu': 14}, 2008: {'Inter': 1,'Honka': 2,'Lahti': 3,'HJK': 4,'MYPA': 5,'TPS': 6,'TamU': 7,'Haka': 8,'Jaro': 9,'RoPS': 10,'VPS': 11,'IFK Mariehamn': 12,'KuPS': 13,'KooTeePee': 14}, 2009: {'HJK': 1,'Honka': 2,'TPS': 3,'IFK Mariehamn': 4,'Inter': 5,'Haka': 6,'TamU': 7,'VPS': 8,'MYPA': 9,'Jaro': 10,'Lahti': 11,'KuPS': 12,'JJK': 13,'RoPS': 14}, 2010: {'HJK': 1,'KuPS': 2,'TPS': 3,'Honka': 4,'Jaro': 5,'Inter': 6,'TamU': 7,'Haka': 8,'MYPA': 9,'VPS': 10,'FC/AC Oulu': 11,'IFK Mariehamn': 12,'JJK': 13,'Lahti': 14}, 2011: {'HJK': 1,'Inter': 2,'JJK': 3,'Honka': 4,'TPS': 5,'KuPS': 6,'IFK Mariehamn': 7,'MYPA': 8,'VPS': 9,'Haka': 10,'Jaro': 11,'RoPS': 12}, 2012: {'HJK': 1,'Inter': 2,'TPS': 3,'IFK Mariehamn': 4,'Lahti': 5,'MYPA': 6,'Honka': 7,'VPS': 8,'JJK': 9,'KuPS': 10,'Jaro': 11,'Haka': 12}, 2013: {'HJK': 1,'Honka': 2,'VPS': 3,'IFK Mariehamn': 4,'Lahti': 5,'MYPA': 6,'KuPS': 7,'TPS': 8,'Inter': 9,'Jaro': 10,'RoPS': 11,'JJK': 12}, 2014: {'HJK': 1,'SJK': 2,'Lahti': 3,'VPS': 4,'IFK Mariehamn': 5,'Jaro': 6,'KuPS': 7,'MYPA': 8,'Inter': 9,'RoPS': 10,'Honka': 11,'TPS': 12}, 2015: {'SJK': 1,'RoPS': 2,'HJK': 3,'Inter': 4,'Lahti': 5,'IFK Mariehamn': 6,'HIFK': 7,'Ilves': 8,'KuPS': 9,'VPS': 10,'KooTeePee': 11,'Jaro': 12}, 2016: {'IFK Mariehamn': 1,'HJK': 2,'SJK': 3,'VPS': 4,'Ilves': 5,'RoPS': 6,'KuPS': 7,'Lahti': 8,'PS Kemi': 9,'HIFK': 10,'Inter': 11,'PK-35': 12}, 2017: {'HJK': 1,'KuPS': 2,'Ilves': 3,'Lahti': 4,'IFK Mariehamn': 5,'SJK': 6,'RoPS': 7,'VPS': 8,'Inter': 9,'PS Kemi': 10,'HIFK': 11,'JJK': 12},2018: {'HJK': 1,'RoPS': 2,'KuPS': 3,'Honka': 4,'Ilves': 5,'VPS': 6,'Inter': 7,'Lahti': 8,'SJK': 9,'IFK Mariehamn': 10,'TPS': 11,'PS Kemi': 12}, 2019: {'KuPS': 1,'Inter': 2,'Honka': 3,'Ilves': 4,'HJK': 5,'IFK Mariehamn': 6,'HIFK': 7,'Lahti': 8,'SJK': 9,'RoPS': 10,'KPV': 11,'VPS': 12}}    \n",
    "alkuvuosi=1990\n",
    "loppuvuosi=2019\n",
    "futis_tilastot(liiga, alkuvuosi, loppuvuosi)"
   ]
  },
  {
   "cell_type": "code",
   "execution_count": null,
   "id": "f246199f",
   "metadata": {},
   "outputs": [],
   "source": []
  }
 ],
 "metadata": {
  "kernelspec": {
   "display_name": "Python 3 (ipykernel)",
   "language": "python",
   "name": "python3"
  },
  "language_info": {
   "codemirror_mode": {
    "name": "ipython",
    "version": 3
   },
   "file_extension": ".py",
   "mimetype": "text/x-python",
   "name": "python",
   "nbconvert_exporter": "python",
   "pygments_lexer": "ipython3",
   "version": "3.9.7"
  }
 },
 "nbformat": 4,
 "nbformat_minor": 5
}
