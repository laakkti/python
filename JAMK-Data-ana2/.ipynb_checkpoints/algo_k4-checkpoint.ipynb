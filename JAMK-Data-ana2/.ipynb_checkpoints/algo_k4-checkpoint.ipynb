{
 "cells": [
  {
   "cell_type": "markdown",
   "id": "b529edec",
   "metadata": {},
   "source": [
    "Tee for-silmukkaa hyödyntäen python funktio iteroi(a), joka ottaa argumentikseen kokonaisluvun a ja tulostaa eri riveille ylemmällä rivillä olevan luvun vähennettyä ykkösellä lukuun nolla saakka (kts. esim. alla).\n",
    "\n",
    "Esimerkiksi:\n",
    "\n",
    "Testi:\n",
    "\n",
    "iteroi(3)\n",
    "\n",
    "Tulos:\n",
    "\n",
    "3\n",
    "2\n",
    "1\n",
    "0"
   ]
  },
  {
   "cell_type": "code",
   "execution_count": 4,
   "id": "209920d1",
   "metadata": {},
   "outputs": [
    {
     "name": "stdout",
     "output_type": "stream",
     "text": [
      "3\n",
      "2\n",
      "1\n",
      "0\n"
     ]
    }
   ],
   "source": [
    "def iteroi(a):\n",
    "    \n",
    "    # Kirjoita vastauksesi tähän alle:        \n",
    "    # Otathan huomioon, että \"a\" muuttujassa on annettuna kokonaisluku, jota algoritmi käsittelee.\n",
    "    \n",
    "    # ...\n",
    "    # Vastauksessasi tulee esiintyä vain yksi print komento.\n",
    "    # ...\n",
    "    \n",
    "    for i in range(a+1):\n",
    "        print(a-i)\n",
    "        \n",
    "iteroi(3)"
   ]
  },
  {
   "cell_type": "code",
   "execution_count": null,
   "id": "f6ca85be",
   "metadata": {},
   "outputs": [],
   "source": []
  }
 ],
 "metadata": {
  "kernelspec": {
   "display_name": "Python 3 (ipykernel)",
   "language": "python",
   "name": "python3"
  },
  "language_info": {
   "codemirror_mode": {
    "name": "ipython",
    "version": 3
   },
   "file_extension": ".py",
   "mimetype": "text/x-python",
   "name": "python",
   "nbconvert_exporter": "python",
   "pygments_lexer": "ipython3",
   "version": "3.9.7"
  }
 },
 "nbformat": 4,
 "nbformat_minor": 5
}
