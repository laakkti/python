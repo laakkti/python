{
 "cells": [
  {
   "cell_type": "markdown",
   "id": "8486c2d0",
   "metadata": {},
   "source": [
    "Kunnat\n",
    "Tee funktio kunnat(url), joka tekee seuraavaa:\n",
    "\n",
    "lataa datan DataFrameen url:sta (sarakkeiden erotinmerkki on puolipiste ja desimaalimerkki on pilkku),\n",
    "kopioi uuteen DataFrameen kaikki sarakkeet ja rivit, joissa sarakkeessa 'maakunta' esiintyvät merkkijonot 'Uusimaa', 'Keski-Pohjanmaa' tai 'Keski-Suomi' ja sarakkeen 'Väkiluku' arvo on pienempi kuin 10 000,\n",
    "kopioi edellisen DataFramen uuteen DataFrameen siten, että ensin on lajiteltu sarake 'maakunta' ja sitten sarake 'kunta'  (ts. järjestysavaimia on kaksi kappaletta) aakkosissa nousevaan järjestykseen,\n",
    "Valitse tulostukseen mukaan seuraavat sarakkeet: 'maakunta', 'kunta', ja 'Väkiluku'.\n",
    "tulostaa lopputulokseen viisi ensimmäistä riviä.\n",
    "Tässä tehtävässä url=https://student.labranet.jamk.fi/~pelju/data_av/sources/kunnat.csv\n",
    "\n",
    "Esimerkiksi:\n",
    "kunnat(\"https://student.labranet.jamk.fi/~pelju/data_av/sources/kunnat.csv\")\n",
    "\n",
    "Tulos:\n",
    "            maakunta       kunta  Väkiluku\n",
    "22   Keski-Pohjanmaa      Halsua      1165\n",
    "75   Keski-Pohjanmaa      Kannus      5502\n",
    "84   Keski-Pohjanmaa   Kaustinen      4273\n",
    "136  Keski-Pohjanmaa  Lestijärvi       737\n",
    "191  Keski-Pohjanmaa       Perho      2825\n"
   ]
  },
  {
   "cell_type": "code",
   "execution_count": 7,
   "id": "3ae4b745",
   "metadata": {},
   "outputs": [
    {
     "name": "stdout",
     "output_type": "stream",
     "text": [
      "            maakunta       kunta  Väkiluku\n",
      "22   Keski-Pohjanmaa      Halsua      1165\n",
      "75   Keski-Pohjanmaa      Kannus      5502\n",
      "84   Keski-Pohjanmaa   Kaustinen      4273\n",
      "136  Keski-Pohjanmaa  Lestijärvi       737\n",
      "191  Keski-Pohjanmaa       Perho      2825\n"
     ]
    }
   ],
   "source": [
    "\n",
    "\n",
    "def ks_kunnat(url):\n",
    "    # Kirjoita vastauksesi tähän alle:\n",
    "    import pandas as pd       \n",
    "    df = pd.read_csv(url,delimiter=\";\",decimal=\",\")    \n",
    "    df2=df.loc[((df['maakunta']=='Uusimaa') | (df['maakunta']=='Keski-Pohjanmaa') | (df['maakunta']=='Keski-Suomi')) & (df['Väkiluku']<10000),[\"maakunta\",\"kunta\",\"Väkiluku\"]]    \n",
    "    tulos = df2.sort_values(['maakunta', 'kunta'],ascending = [True, True])[:5]\n",
    "    print(tulos)\n",
    "\n",
    "url=\"https://student.labranet.jamk.fi/~pelju/data_av/sources/kunnat.csv\" \n",
    "ks_kunnat(url)    "
   ]
  },
  {
   "cell_type": "code",
   "execution_count": null,
   "id": "0f97ce89",
   "metadata": {},
   "outputs": [],
   "source": []
  }
 ],
 "metadata": {
  "kernelspec": {
   "display_name": "Python 3 (ipykernel)",
   "language": "python",
   "name": "python3"
  },
  "language_info": {
   "codemirror_mode": {
    "name": "ipython",
    "version": 3
   },
   "file_extension": ".py",
   "mimetype": "text/x-python",
   "name": "python",
   "nbconvert_exporter": "python",
   "pygments_lexer": "ipython3",
   "version": "3.9.7"
  }
 },
 "nbformat": 4,
 "nbformat_minor": 5
}
