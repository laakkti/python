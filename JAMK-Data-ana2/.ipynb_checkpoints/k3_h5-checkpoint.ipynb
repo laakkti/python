{
 "cells": [
  {
   "cell_type": "markdown",
   "id": "e656081c",
   "metadata": {},
   "source": [
    "Päästöjen summaaminen\n",
    "Tee funktio emissions(url), joka tekee järjestyksessä seuraavaa:\n",
    "\n",
    "lataa datan DataFrameen url:sta, jossa erotinmerkkinä on tabulaattori ('\\t'),\n",
    "tallentaa DataFrameen sarakkeet 'main activity sector name', 'value' ja 'year',\n",
    "poistaa DataFramesta rivit, jos sarakkeessa 'main activity sector name' esiintyy merkkijonot '20-99 All stationary installations' tai '21-99 All industrial installations (excl. combustion)'\n",
    "tallentaa uuteen DataFrameen kaikki rivit, joissa sarakkeen 'year' lukuarvo on yhtäsuuri tai suurempi kuin 2010 ja yhtäsuuri tai pienempi kuin 2015.\n",
    "laskee uuteen DataFrameen kuinka paljon ovat kokonaispäästöt sektoreittain (summa sarakkeesta 'values', jotka on ryhmitelty sarakkeen 'main activity sector name' mukaan),\n",
    "järjestää uuden DataFramen rivit suurimmasta pienimpään sarakkeen 'value' mukaan,\n",
    "tulostaa viisi ensimmäistä riviä DataFramesta siten, että sarake 'main activity sector name' on nimetty sarakkeeksi 'sector',\n",
    "huomaa, että sarake 'value' on ennen saraketta 'sector'.\n",
    "Tässä tehtävässä url=https://student.labranet.jamk.fi/~huoptu/datananal_s20/kerta3/harjoitukset/ETS_Database_v38A.csv\n",
    "\n",
    "Testi:\n",
    "\n",
    "emissions(\"https://student.labranet.jamk.fi/~huoptu/datananal_s20/kerta3/harjoitukset/ETS_Database_v38A.csv\")\n",
    "\n",
    "Tulos:\n",
    "\n",
    "           value                               sector\n",
    "1   1.273006e+10               20 Combustion of fuels\n",
    "5   2.053915e+09  24  Production of pig iron or steel\n",
    "10  1.803550e+09      29 Production of cement clinker\n",
    "2   1.678130e+09          21  Refining of mineral oil\n",
    "0   5.644274e+08                          10 Aviation\n",
    "\n"
   ]
  },
  {
   "cell_type": "code",
   "execution_count": 40,
   "id": "94f7bd91",
   "metadata": {},
   "outputs": [
    {
     "name": "stdout",
     "output_type": "stream",
     "text": [
      "           value                               sector\n",
      "1   1.273006e+10               20 Combustion of fuels\n",
      "5   2.053915e+09  24  Production of pig iron or steel\n",
      "10  1.803550e+09      29 Production of cement clinker\n",
      "2   1.678130e+09          21  Refining of mineral oil\n",
      "0   5.644274e+08                          10 Aviation\n"
     ]
    }
   ],
   "source": [
    "def emissions(url):\n",
    "    import pandas as pd\n",
    "    import numpy as np\n",
    "    \n",
    "    df = pd.read_csv(url, sep='\\t')\n",
    "    \n",
    "    sarake = 'country\\tcountry_code\\tETS information\\tmain activity sector name\\tunit\\tvalue\\tyear'\n",
    "    df=df[sarake].str.split('\\t', expand=True)\n",
    "\n",
    "    cols = sarake.split('\\t')\n",
    "    df.columns =cols\n",
    "    df=df[['main activity sector name','value','year']]\n",
    "    \n",
    "    tobedropped=['20-99 All stationary installations','21-99 All industrial installations (excl. combustion)']\n",
    "    for i in range(len(tobedropped)):\n",
    "        df.drop(df[df['main activity sector name']==tobedropped[i]].index, inplace = True)        \n",
    "    \n",
    "    tobedropped=['Total 1st trading period (05-07)','Total 2nd trading period (08-12)','Total 3rd trading period (13-20)']\n",
    "    for i in range(len(tobedropped)):\n",
    "        df.drop(df[df['year']== tobedropped[i]].index, inplace = True)\n",
    "    \n",
    "    \n",
    "    df['year']=df['year'].fillna(0)    \n",
    "    df['year']=df['year'].astype(int) #.astype(int)\n",
    "        \n",
    "    df['value']=df['value'].fillna(0)\n",
    "    df['value']=df['value'].astype(float)\n",
    "    \n",
    "    df=df.loc[(df['year']>=2010) & (df['year']<=2015)] #[:5]\n",
    "        \n",
    "    df=df[['value','main activity sector name']]\n",
    "    groups=df.groupby('main activity sector name',as_index=False)\n",
    "    #df2=df.groupby('main activity sector name')['value'].sum()\n",
    "    #df['value'] = df.groupby('main activity sector name')['value'].sum()\n",
    "    \n",
    "    df2 = pd.DataFrame(groups['value'].sum())\n",
    "    #df2['main activity sector name'] = groups['main activity sector name']\n",
    "    #df2 = pd.DataFrame(groups['value'].count())    \n",
    "    \n",
    "    df2=df2.sort_values(by='value',ascending=False)\n",
    "    \n",
    "    #df2.rename(columns = {'main activity sector name':'sector'}, inplace = True)\n",
    "    df2.rename(columns = {'main activity sector name':'sector'}, inplace = True)\n",
    "    tulos=df2[['value','sector']][:5]\n",
    "    print(tulos)\n",
    "    \n",
    "            \n",
    "url=\"https://student.labranet.jamk.fi/~huoptu/datananal_s20/kerta3/harjoitukset/ETS_Database_v38A.csv\"\n",
    "emissions(url)         "
   ]
  },
  {
   "cell_type": "code",
   "execution_count": null,
   "id": "6375d3ab",
   "metadata": {},
   "outputs": [],
   "source": []
  }
 ],
 "metadata": {
  "kernelspec": {
   "display_name": "Python 3 (ipykernel)",
   "language": "python",
   "name": "python3"
  },
  "language_info": {
   "codemirror_mode": {
    "name": "ipython",
    "version": 3
   },
   "file_extension": ".py",
   "mimetype": "text/x-python",
   "name": "python",
   "nbconvert_exporter": "python",
   "pygments_lexer": "ipython3",
   "version": "3.9.7"
  }
 },
 "nbformat": 4,
 "nbformat_minor": 5
}
