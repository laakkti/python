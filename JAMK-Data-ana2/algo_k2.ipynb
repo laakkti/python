{
 "cells": [
  {
   "cell_type": "markdown",
   "id": "b529edec",
   "metadata": {},
   "source": [
    "Tee for-silmukkaa hyödyntämällä python funktio taulukko(n, m), joka ottaa argumenteikseen taulukon rivien n ja sarakkaiden lukumäärän m ja tulostaa jokaiselle riville ensin rivi-indeksin ja kaksoispisteen jälkeen jokaisen eri sarakkeen indeksit alla olevan esimerkin mukaan.\n",
    "\n",
    "Testi:\t\n",
    "taulukko(3,3)\n",
    "Tulos:\n",
    "0:012\n",
    "1:012\n",
    "2:012"
   ]
  },
  {
   "cell_type": "code",
   "execution_count": 5,
   "id": "209920d1",
   "metadata": {},
   "outputs": [
    {
     "name": "stdout",
     "output_type": "stream",
     "text": [
      "0:012\n",
      "1:012\n",
      "2:012\n"
     ]
    }
   ],
   "source": [
    "def taulukko(n,m):\n",
    "    \n",
    "    # Kirjoita vastauksesi tähän alle:\n",
    "    # Vastaukssa voi esiintyä vain yksi print - komento.\n",
    "    cols=''\n",
    "        for col in range(m):\n",
    "            cols+=str(col)\n",
    "    \n",
    "    for row in range(n):\n",
    "        print(str(row)+':'+cols)\n",
    "\n",
    "taulukko(3,3)    "
   ]
  }
 ],
 "metadata": {
  "kernelspec": {
   "display_name": "Python 3 (ipykernel)",
   "language": "python",
   "name": "python3"
  },
  "language_info": {
   "codemirror_mode": {
    "name": "ipython",
    "version": 3
   },
   "file_extension": ".py",
   "mimetype": "text/x-python",
   "name": "python",
   "nbconvert_exporter": "python",
   "pygments_lexer": "ipython3",
   "version": "3.9.7"
  }
 },
 "nbformat": 4,
 "nbformat_minor": 5
}
